{
 "cells": [
  {
   "cell_type": "code",
   "execution_count": 1,
   "id": "0ab0d664",
   "metadata": {},
   "outputs": [],
   "source": [
    "import math\n",
    "from scipy import stats\n",
    "from statistics import mean, stdev"
   ]
  },
  {
   "cell_type": "markdown",
   "id": "2552022b",
   "metadata": {},
   "source": [
    "1. Two manufacturers of quartz watches (Romex and Tiddot) were tested for durability. The number of days to failure for a sample of size $5$ of both makes is given below:    "
   ]
  },
  {
   "cell_type": "markdown",
   "id": "6495af3b",
   "metadata": {},
   "source": [
    "    Romex: 101.4, 91.3, 108.0, 104.8, 102.2\n",
    "    Tiddot: 118.7, 102.5, 99.4, 129.1, 110.1"
   ]
  },
  {
   "cell_type": "markdown",
   "id": "b0c2afc9",
   "metadata": {},
   "source": [
    "a. Compute the sample mean and sample variance of Romex and Tiddot watches from the samples given."
   ]
  },
  {
   "cell_type": "code",
   "execution_count": 2,
   "id": "4066a6bd",
   "metadata": {},
   "outputs": [],
   "source": [
    "R = [101.4, 91.3, 108.0, 104.8, 102.2]\n",
    "T = [118.7, 102.5, 99.4, 129.1, 110.1]"
   ]
  },
  {
   "cell_type": "code",
   "execution_count": 3,
   "id": "0b964f32",
   "metadata": {},
   "outputs": [],
   "source": [
    "m_x = len(R)\n",
    "mu_x = mean(R)\n",
    "sigma_x =stdev(R)"
   ]
  },
  {
   "cell_type": "code",
   "execution_count": 4,
   "id": "a5ea6edd",
   "metadata": {},
   "outputs": [
    {
     "data": {
      "text/plain": [
       "(101.54, 6.278375586089129)"
      ]
     },
     "execution_count": 4,
     "metadata": {},
     "output_type": "execute_result"
    }
   ],
   "source": [
    "(mu_x, sigma_x)"
   ]
  },
  {
   "cell_type": "code",
   "execution_count": 5,
   "id": "b5b023a2",
   "metadata": {},
   "outputs": [],
   "source": [
    "m_y = len(T)\n",
    "mu_y = mean(T)\n",
    "sigma_y =stdev(T)"
   ]
  },
  {
   "cell_type": "code",
   "execution_count": 6,
   "id": "6cb2cdb6",
   "metadata": {},
   "outputs": [
    {
     "data": {
      "text/plain": [
       "(111.96, 12.144052042049223)"
      ]
     },
     "execution_count": 6,
     "metadata": {},
     "output_type": "execute_result"
    }
   ],
   "source": [
    "(mu_y, sigma_y)"
   ]
  },
  {
   "cell_type": "markdown",
   "id": "711dcaa2",
   "metadata": {},
   "source": [
    "b. Let $\\mu_X$ denote the population mean durability of Romex watches, and let $\\mu_Y$ denote the population mean durability of Tiddot watches. Test the hypothesis that $\\mu_X = \\mu_Y$ against the alternative that $\\mu_X \\neq \\mu_Y$ with a 5% significance level. You may assume that both samples come from populations which have equal variances. State any assumptions made and give the approximate $p$-value of the test."
   ]
  },
  {
   "cell_type": "markdown",
   "id": "721d65a9",
   "metadata": {},
   "source": [
    "We know that $t=\\frac{\\bar X-\\bar Y-(\\mu_X-\\mu_y)}{S\\sqrt{\\frac{1}{m}+\\frac{1}{n}}}\\sim t(m+n-2)$, thus if we assume that the null hypotesis is true:"
   ]
  },
  {
   "cell_type": "code",
   "execution_count": 7,
   "id": "3bfd0402",
   "metadata": {},
   "outputs": [],
   "source": [
    "S = math.sqrt(((m_x-1)*(sigma_x**2)+(m_y-1)*(sigma_y**2))/(m_x+m_y-2))\n",
    "t =(mu_x-mu_y)/(S*math.sqrt((1/m_x)+(1/m_y)))"
   ]
  },
  {
   "cell_type": "code",
   "execution_count": 8,
   "id": "eb78e899",
   "metadata": {},
   "outputs": [
    {
     "data": {
      "text/plain": [
       "-1.7043261903268345"
      ]
     },
     "execution_count": 8,
     "metadata": {},
     "output_type": "execute_result"
    }
   ],
   "source": [
    "t"
   ]
  },
  {
   "cell_type": "markdown",
   "id": "156994c8",
   "metadata": {},
   "source": [
    "Which is inside the acceptance region of the test:"
   ]
  },
  {
   "cell_type": "code",
   "execution_count": 9,
   "id": "ce3d2425",
   "metadata": {},
   "outputs": [
    {
     "data": {
      "text/plain": [
       "(-2.3060041350333704, 2.3060041350333704)"
      ]
     },
     "execution_count": 9,
     "metadata": {},
     "output_type": "execute_result"
    }
   ],
   "source": [
    "(-stats.t.ppf(.975, df = m_x+m_y-2),stats.t.ppf(.975, df = m_x+m_y-2))"
   ]
  },
  {
   "cell_type": "markdown",
   "id": "099e8bda",
   "metadata": {},
   "source": [
    "The $p$-value of the test is given by:"
   ]
  },
  {
   "cell_type": "code",
   "execution_count": 10,
   "id": "bbcf43c0",
   "metadata": {},
   "outputs": [
    {
     "data": {
      "text/plain": [
       "0.12672020822979393"
      ]
     },
     "execution_count": 10,
     "metadata": {},
     "output_type": "execute_result"
    }
   ],
   "source": [
    "2*stats.t.cdf(t, df = m_x+m_y-2)"
   ]
  },
  {
   "cell_type": "markdown",
   "id": "35d59724",
   "metadata": {},
   "source": [
    "And we conclude there is not enough evidence for rejecting the null hypotesis."
   ]
  },
  {
   "cell_type": "markdown",
   "id": "4fff4afd",
   "metadata": {},
   "source": [
    "3. The student support service claims in a student newspaper that 60% of students that use the service find it benefits their studies. An independent survey of 200 students who have used the student support service found that 132 out of the 200 stated that use of the service did improve their studies. Using the results of this independent survey, test the validity of the claim that 60% of students that use the student support service think it benefits their studies at a 5% significance level."
   ]
  },
  {
   "cell_type": "markdown",
   "id": "fb66a449",
   "metadata": {},
   "source": [
    "We perform a chi-squated goodness of fitness test:"
   ]
  },
  {
   "cell_type": "code",
   "execution_count": 8,
   "id": "0529b394",
   "metadata": {},
   "outputs": [
    {
     "data": {
      "text/plain": [
       "3.0"
      ]
     },
     "execution_count": 8,
     "metadata": {},
     "output_type": "execute_result"
    }
   ],
   "source": [
    "chi2 = ((132-120)**2/120)+((68-80)**2/80)\n",
    "chi2"
   ]
  },
  {
   "cell_type": "markdown",
   "id": "6fefc3f6",
   "metadata": {},
   "source": [
    "The acceptance given by bounded by:"
   ]
  },
  {
   "cell_type": "code",
   "execution_count": 9,
   "id": "5456a396",
   "metadata": {},
   "outputs": [
    {
     "data": {
      "text/plain": [
       "(0, 3.841458820694124)"
      ]
     },
     "execution_count": 9,
     "metadata": {},
     "output_type": "execute_result"
    }
   ],
   "source": [
    "(0,stats.chi2.ppf(.95, df = 1))"
   ]
  },
  {
   "cell_type": "markdown",
   "id": "3966914f",
   "metadata": {},
   "source": [
    "There is no estrong evidence for rejecting the null hypothesis and the claim is valid."
   ]
  },
  {
   "cell_type": "markdown",
   "id": "e47689b2",
   "metadata": {},
   "source": [
    "4. The numbers of a certain kind of crustacean were counted at 20 one-square-meter sites along a coastline, 10 facing South and 10 facing North. The results were as follows:\n",
    "\n",
    "    South: 28, 27, 31, 45, 21, 10, 30, 32, 25, 38\n",
    "    \n",
    "    North: 27, 15, 38, 16, 21, 18, 20, 26, 30, 21"
   ]
  },
  {
   "cell_type": "markdown",
   "id": "4262683d",
   "metadata": {},
   "source": [
    "Using a 5% level of significance:\n",
    "    \n",
    "    a. Test whether the population variances at each site are equal.\n",
    "    "
   ]
  },
  {
   "cell_type": "markdown",
   "id": "868515a7",
   "metadata": {},
   "source": [
    "We use an hypothesis test with the F-distribution: "
   ]
  },
  {
   "cell_type": "code",
   "execution_count": 2,
   "id": "112f5948",
   "metadata": {},
   "outputs": [],
   "source": [
    "S = [ 28, 27, 31, 45, 21, 10, 30, 32, 25, 38]\n",
    "N = [ 27, 15, 38, 16, 21, 18, 20, 26, 30, 21]"
   ]
  },
  {
   "cell_type": "code",
   "execution_count": 3,
   "id": "627810ab",
   "metadata": {},
   "outputs": [],
   "source": [
    "m_x = len(S)\n",
    "sigma_x = stdev(S)\n",
    "\n",
    "m_y = len(N)\n",
    "sigma_y = stdev(N)"
   ]
  },
  {
   "cell_type": "code",
   "execution_count": 5,
   "id": "93dd30ff",
   "metadata": {},
   "outputs": [
    {
     "data": {
      "text/plain": [
       "1.755070546737213"
      ]
     },
     "execution_count": 5,
     "metadata": {},
     "output_type": "execute_result"
    }
   ],
   "source": [
    "F = (sigma_x/sigma_y)**2\n",
    "F"
   ]
  },
  {
   "cell_type": "markdown",
   "id": "9f848f4c",
   "metadata": {},
   "source": [
    "The acceptance region is given by"
   ]
  },
  {
   "cell_type": "code",
   "execution_count": 8,
   "id": "1372595c",
   "metadata": {},
   "outputs": [
    {
     "data": {
      "text/plain": [
       "(0, 3.178893104458269)"
      ]
     },
     "execution_count": 8,
     "metadata": {},
     "output_type": "execute_result"
    }
   ],
   "source": [
    "(0,stats.f.ppf(.95, dfn = m_x-1, dfd = m_y-1))"
   ]
  },
  {
   "cell_type": "markdown",
   "id": "6821b725",
   "metadata": {},
   "source": [
    "And we accept the null hypothesis."
   ]
  },
  {
   "cell_type": "markdown",
   "id": "c0a91d8f",
   "metadata": {},
   "source": [
    "    b. Test whether the population means at each site are equal, using the result of the previous question to guide your answer."
   ]
  },
  {
   "cell_type": "markdown",
   "id": "a397ff74",
   "metadata": {},
   "source": [
    "Analogous to exercise 1 since we can assume the variance are equal by a."
   ]
  },
  {
   "cell_type": "code",
   "execution_count": 10,
   "id": "cf08ea5e",
   "metadata": {},
   "outputs": [],
   "source": [
    "mu_x = mean(S)\n",
    "mu_y = mean(N)"
   ]
  },
  {
   "cell_type": "code",
   "execution_count": 11,
   "id": "b38b50cb",
   "metadata": {},
   "outputs": [
    {
     "data": {
      "text/plain": [
       "1.4759819936174412"
      ]
     },
     "execution_count": 11,
     "metadata": {},
     "output_type": "execute_result"
    }
   ],
   "source": [
    "s_xy = math.sqrt(((m_x-1)*(sigma_x**2)+(m_y-1)*(sigma_y**2))/(m_x+m_y-2))\n",
    "t =(mu_x-mu_y)/(s_xy*math.sqrt((1/m_x)+(1/m_y)))\n",
    "t"
   ]
  },
  {
   "cell_type": "code",
   "execution_count": 12,
   "id": "16c6ea8a",
   "metadata": {},
   "outputs": [
    {
     "data": {
      "text/plain": [
       "(-2.10092204024096, 2.10092204024096)"
      ]
     },
     "execution_count": 12,
     "metadata": {},
     "output_type": "execute_result"
    }
   ],
   "source": [
    "(-stats.t.ppf(.975, df = m_x+m_y-2),stats.t.ppf(.975, df = m_x+m_y-2))"
   ]
  },
  {
   "cell_type": "code",
   "execution_count": null,
   "id": "8e76b964",
   "metadata": {},
   "outputs": [],
   "source": []
  }
 ],
 "metadata": {
  "kernelspec": {
   "display_name": "Python 3 (ipykernel)",
   "language": "python",
   "name": "python3"
  },
  "language_info": {
   "codemirror_mode": {
    "name": "ipython",
    "version": 3
   },
   "file_extension": ".py",
   "mimetype": "text/x-python",
   "name": "python",
   "nbconvert_exporter": "python",
   "pygments_lexer": "ipython3",
   "version": "3.8.13"
  }
 },
 "nbformat": 4,
 "nbformat_minor": 5
}
