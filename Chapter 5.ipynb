{
 "cells": [
  {
   "cell_type": "code",
   "execution_count": 1,
   "id": "0ab0d664",
   "metadata": {},
   "outputs": [],
   "source": [
    "import math\n",
    "from scipy import stats\n",
    "from statistics import mean, stdev"
   ]
  },
  {
   "cell_type": "markdown",
   "id": "2552022b",
   "metadata": {},
   "source": [
    "1. Two manufacturers of quartz watches (Romex and Tiddot) were tested for durability. The number of days to failure for a sample of size $5$ of both makes is given below:    "
   ]
  },
  {
   "cell_type": "markdown",
   "id": "6495af3b",
   "metadata": {},
   "source": [
    "    Romex: 101.4, 91.3, 108.0, 104.8, 102.2\n",
    "    Tiddot: 118.7, 102.5, 99.4, 129.1, 110.1"
   ]
  },
  {
   "cell_type": "markdown",
   "id": "b0c2afc9",
   "metadata": {},
   "source": [
    "a. Compute the sample mean and sample variance of Romex and Tiddot watches from the samples given."
   ]
  },
  {
   "cell_type": "code",
   "execution_count": 2,
   "id": "4066a6bd",
   "metadata": {},
   "outputs": [],
   "source": [
    "R = [101.4, 91.3, 108.0, 104.8, 102.2]\n",
    "T = [118.7, 102.5, 99.4, 129.1, 110.1]"
   ]
  },
  {
   "cell_type": "code",
   "execution_count": 3,
   "id": "0b964f32",
   "metadata": {},
   "outputs": [],
   "source": [
    "m_x = len(R)\n",
    "mu_x = mean(R)\n",
    "sigma_x =stdev(R)"
   ]
  },
  {
   "cell_type": "code",
   "execution_count": 4,
   "id": "a5ea6edd",
   "metadata": {},
   "outputs": [
    {
     "data": {
      "text/plain": [
       "(101.54, 6.278375586089129)"
      ]
     },
     "execution_count": 4,
     "metadata": {},
     "output_type": "execute_result"
    }
   ],
   "source": [
    "(mu_x, sigma_x)"
   ]
  },
  {
   "cell_type": "code",
   "execution_count": 5,
   "id": "b5b023a2",
   "metadata": {},
   "outputs": [],
   "source": [
    "m_y = len(T)\n",
    "mu_y = mean(T)\n",
    "sigma_y =stdev(T)"
   ]
  },
  {
   "cell_type": "code",
   "execution_count": 6,
   "id": "6cb2cdb6",
   "metadata": {},
   "outputs": [
    {
     "data": {
      "text/plain": [
       "(111.96, 12.144052042049223)"
      ]
     },
     "execution_count": 6,
     "metadata": {},
     "output_type": "execute_result"
    }
   ],
   "source": [
    "(mu_y, sigma_y)"
   ]
  },
  {
   "cell_type": "markdown",
   "id": "711dcaa2",
   "metadata": {},
   "source": [
    "b. Let $\\mu_X$ denote the population mean durability of Romex watches, and let $\\mu_Y$ denote the population mean durability of Tiddot watches. Test the hypothesis that $\\mu_X = \\mu_Y$ against the alternative that $\\mu_X \\neq \\mu_Y$ with a 5% significance level. You may assume that both samples come from populations which have equal variances. State any assumptions made and give the approximate $p$-value of the test."
   ]
  },
  {
   "cell_type": "markdown",
   "id": "721d65a9",
   "metadata": {},
   "source": [
    "We know that $t=\\frac{\\bar X-\\bar Y-(\\mu_X-\\mu_y)}{S\\sqrt{\\frac{1}{m}+\\frac{1}{n}}}\\sim t(m+n-2)$, thus if we assume that the null hypotesis is true:"
   ]
  },
  {
   "cell_type": "code",
   "execution_count": 7,
   "id": "3bfd0402",
   "metadata": {},
   "outputs": [],
   "source": [
    "S = math.sqrt(((m_x-1)*(sigma_x**2)+(m_y-1)*(sigma_y**2))/(m_x+m_y-2))\n",
    "t =(mu_x-mu_y)/(S*math.sqrt((1/m_x)+(1/m_y)))"
   ]
  },
  {
   "cell_type": "code",
   "execution_count": 8,
   "id": "eb78e899",
   "metadata": {},
   "outputs": [
    {
     "data": {
      "text/plain": [
       "-1.7043261903268345"
      ]
     },
     "execution_count": 8,
     "metadata": {},
     "output_type": "execute_result"
    }
   ],
   "source": [
    "t"
   ]
  },
  {
   "cell_type": "markdown",
   "id": "156994c8",
   "metadata": {},
   "source": [
    "Which is inside the acceptance region of the test:"
   ]
  },
  {
   "cell_type": "code",
   "execution_count": 9,
   "id": "ce3d2425",
   "metadata": {},
   "outputs": [
    {
     "data": {
      "text/plain": [
       "(-2.3060041350333704, 2.3060041350333704)"
      ]
     },
     "execution_count": 9,
     "metadata": {},
     "output_type": "execute_result"
    }
   ],
   "source": [
    "(-stats.t.ppf(.975, df = m_x+m_y-2),stats.t.ppf(.975, df = m_x+m_y-2))"
   ]
  },
  {
   "cell_type": "markdown",
   "id": "099e8bda",
   "metadata": {},
   "source": [
    "The $p$-value of the test is given by:"
   ]
  },
  {
   "cell_type": "code",
   "execution_count": 10,
   "id": "bbcf43c0",
   "metadata": {},
   "outputs": [
    {
     "data": {
      "text/plain": [
       "0.12672020822979393"
      ]
     },
     "execution_count": 10,
     "metadata": {},
     "output_type": "execute_result"
    }
   ],
   "source": [
    "2*stats.t.cdf(t, df = m_x+m_y-2)"
   ]
  },
  {
   "cell_type": "markdown",
   "id": "35d59724",
   "metadata": {},
   "source": [
    "And we conclude there is not enough evidence for rejecting the null hypotesis."
   ]
  },
  {
   "cell_type": "markdown",
   "id": "4fff4afd",
   "metadata": {},
   "source": [
    "3. The student support service claims in a student newspaper that 60% of students that use the service find it benefits their studies. An independent survey of 200 students who have used the student support service found that 132 out of the 200 stated that use of the service did improve their studies. Using the results of this independent survey, test the validity of the claim that 60% of students that use the student support service think it benefits their studies at a 5% significance level."
   ]
  },
  {
   "cell_type": "markdown",
   "id": "232c0521",
   "metadata": {},
   "source": [
    "We perform a chi-squated goodness of fitness test:"
   ]
  },
  {
   "cell_type": "code",
   "execution_count": 8,
   "id": "0529b394",
   "metadata": {},
   "outputs": [
    {
     "data": {
      "text/plain": [
       "3.0"
      ]
     },
     "execution_count": 8,
     "metadata": {},
     "output_type": "execute_result"
    }
   ],
   "source": [
    "chi2 = ((132-120)**2/120)+((68-80)**2/80)\n",
    "chi2"
   ]
  },
  {
   "cell_type": "markdown",
   "id": "4188eacc",
   "metadata": {},
   "source": [
    "The acceptance given by bounded by:"
   ]
  },
  {
   "cell_type": "code",
   "execution_count": 9,
   "id": "5456a396",
   "metadata": {},
   "outputs": [
    {
     "data": {
      "text/plain": [
       "(0, 3.841458820694124)"
      ]
     },
     "execution_count": 9,
     "metadata": {},
     "output_type": "execute_result"
    }
   ],
   "source": [
    "(0,stats.chi2.ppf(.95, df = 1))"
   ]
  },
  {
   "cell_type": "markdown",
   "id": "afef4320",
   "metadata": {},
   "source": [
    "There is no estrong evidence for rejecting the null hypothesis and the claim is valid."
   ]
  },
  {
   "cell_type": "markdown",
   "id": "c4978e1e",
   "metadata": {},
   "source": [
    "4. The numbers of a certain kind of crustacean were counted at 20 one-square-meter sites along a coastline, 10 facing South and 10 facing North. The results were as follows:\n",
    "\n",
    "    South: 28, 27, 31, 45, 21, 10, 30, 32, 25, 38\n",
    "    \n",
    "    North: 27, 15, 38, 16, 21, 18, 20, 26, 30, 21"
   ]
  },
  {
   "cell_type": "markdown",
   "id": "e66cddd2",
   "metadata": {},
   "source": [
    "Using a 5% level of significance:\n",
    "    \n",
    "    a. Test whether the population variances at each site are equal.\n",
    "    "
   ]
  },
  {
   "cell_type": "markdown",
   "id": "e587a248",
   "metadata": {},
   "source": [
    "We use an hypothesis test with the F-distribution: "
   ]
  },
  {
   "cell_type": "code",
   "execution_count": 2,
   "id": "d7fbd31c",
   "metadata": {},
   "outputs": [],
   "source": [
    "S = [ 28, 27, 31, 45, 21, 10, 30, 32, 25, 38]\n",
    "N = [ 27, 15, 38, 16, 21, 18, 20, 26, 30, 21]"
   ]
  },
  {
   "cell_type": "code",
   "execution_count": 3,
   "id": "b34278eb",
   "metadata": {},
   "outputs": [],
   "source": [
    "m_x = len(S)\n",
    "sigma_x = stdev(S)\n",
    "\n",
    "m_y = len(N)\n",
    "sigma_y = stdev(N)"
   ]
  },
  {
   "cell_type": "code",
   "execution_count": 5,
   "id": "a9b651f3",
   "metadata": {},
   "outputs": [
    {
     "data": {
      "text/plain": [
       "1.755070546737213"
      ]
     },
     "execution_count": 5,
     "metadata": {},
     "output_type": "execute_result"
    }
   ],
   "source": [
    "F = (sigma_x/sigma_y)**2\n",
    "F"
   ]
  },
  {
   "cell_type": "markdown",
   "id": "253c3178",
   "metadata": {},
   "source": [
    "The acceptance region is given by"
   ]
  },
  {
   "cell_type": "code",
   "execution_count": 8,
   "id": "34940286",
   "metadata": {},
   "outputs": [
    {
     "data": {
      "text/plain": [
       "(0, 3.178893104458269)"
      ]
     },
     "execution_count": 8,
     "metadata": {},
     "output_type": "execute_result"
    }
   ],
   "source": [
    "(0,stats.f.ppf(.95, dfn = m_x-1, dfd = m_y-1))"
   ]
  },
  {
   "cell_type": "markdown",
   "id": "ae083a80",
   "metadata": {},
   "source": [
    "And we accept the null hypothesis."
   ]
  },
  {
   "cell_type": "markdown",
   "id": "1b57046b",
   "metadata": {},
   "source": [
    "    b. Test whether the population means at each site are equal, using the result of the previous question to guide your answer."
   ]
  },
  {
   "cell_type": "markdown",
   "id": "c7d9f632",
   "metadata": {},
   "source": [
    "Analogous to exercise 1 since we can assume the variance are equal by a."
   ]
  },
  {
   "cell_type": "code",
   "execution_count": 10,
   "id": "25aaf637",
   "metadata": {},
   "outputs": [],
   "source": [
    "mu_x = mean(S)\n",
    "mu_y = mean(N)"
   ]
  },
  {
   "cell_type": "code",
   "execution_count": 11,
   "id": "9c961afa",
   "metadata": {},
   "outputs": [
    {
     "data": {
      "text/plain": [
       "1.4759819936174412"
      ]
     },
     "execution_count": 11,
     "metadata": {},
     "output_type": "execute_result"
    }
   ],
   "source": [
    "s_xy = math.sqrt(((m_x-1)*(sigma_x**2)+(m_y-1)*(sigma_y**2))/(m_x+m_y-2))\n",
    "t =(mu_x-mu_y)/(s_xy*math.sqrt((1/m_x)+(1/m_y)))\n",
    "t"
   ]
  },
  {
   "cell_type": "code",
   "execution_count": 12,
   "id": "12c37bc5",
   "metadata": {},
   "outputs": [
    {
     "data": {
      "text/plain": [
       "(-2.10092204024096, 2.10092204024096)"
      ]
     },
     "execution_count": 12,
     "metadata": {},
     "output_type": "execute_result"
    }
   ],
   "source": [
    "(-stats.t.ppf(.975, df = m_x+m_y-2),stats.t.ppf(.975, df = m_x+m_y-2))"
   ]
  },
  {
   "cell_type": "markdown",
   "id": "3f1413f0",
   "metadata": {},
   "source": [
    "5. A researcher for a harbour control commission wishes to decide whether or not the number of ships that arrive in the harbour follows a Poisson distribution with mean μ = 1.0. The researcher counted the number of ships arriving each hour for a random sample of 70 h and obtained the sample frequencies as given in the below table:\n",
    "\n",
    "| No. of ships arriving | Frecuency |\n",
    "|:---------------------:|:---------:|\n",
    "|           0           |     42    |\n",
    "|           1           |     21    |\n",
    "|           2           |     7     |\n",
    "|       3 or more       |     0     |\n",
    "\n",
    "Test the hypothesis that the number of ships that arrive in the harbour follows a Poisson distribution with mean μ = 1.0 at a 5% significance level. You may find it helpful to recall that the probability mass function of a Poisson distribution withmean μ is given by $$f (x; \\mu) = \\frac{\\exp (−\\mu)\\mu^x}{ x!} , x = 0, 1,... .$$"
   ]
  },
  {
   "cell_type": "markdown",
   "id": "e89bcc91",
   "metadata": {},
   "source": [
    "We perform a chi-squated goodness of fitness test:"
   ]
  },
  {
   "cell_type": "code",
   "execution_count": 2,
   "id": "c5efe9c3",
   "metadata": {},
   "outputs": [],
   "source": [
    "O_0 = 42\n",
    "O_1 = 21\n",
    "O_2 = 7\n",
    "O_3 = 0"
   ]
  },
  {
   "cell_type": "code",
   "execution_count": 3,
   "id": "22acbd03",
   "metadata": {},
   "outputs": [],
   "source": [
    "E_0 = 70*math.exp(-1)/math.factorial(0)\n",
    "E_1 = 70*math.exp(-1)/math.factorial(1)\n",
    "E_2 = 70*math.exp(-1)/math.factorial(2)\n",
    "E_3 = 70-(E_0+E_1+E_2)"
   ]
  },
  {
   "cell_type": "code",
   "execution_count": 4,
   "id": "ef8a1205",
   "metadata": {},
   "outputs": [
    {
     "data": {
      "text/plain": [
       "19.43147215630259"
      ]
     },
     "execution_count": 4,
     "metadata": {},
     "output_type": "execute_result"
    }
   ],
   "source": [
    "chi2 = ((O_0-E_0)**2/E_0)+((O_1-E_1)**2/E_1)+((O_2-E_2)**2/E_2)+((O_3-E_3)**2/E_3)\n",
    "chi2"
   ]
  },
  {
   "cell_type": "markdown",
   "id": "705d5d74",
   "metadata": {},
   "source": [
    "The acceptance region is:"
   ]
  },
  {
   "cell_type": "code",
   "execution_count": 5,
   "id": "c94ee46e",
   "metadata": {},
   "outputs": [
    {
     "data": {
      "text/plain": [
       "(0, 7.814727903251179)"
      ]
     },
     "execution_count": 5,
     "metadata": {},
     "output_type": "execute_result"
    }
   ],
   "source": [
    "(0,stats.chi2.ppf(.95, df = 3))"
   ]
  },
  {
   "cell_type": "markdown",
   "id": "0c62df9b",
   "metadata": {},
   "source": [
    "And we reject the null hypothesis."
   ]
  },
  {
   "cell_type": "code",
   "execution_count": null,
   "id": "c39f36f7",
   "metadata": {},
   "outputs": [],
   "source": []
  }
 ],
 "metadata": {
  "kernelspec": {
   "display_name": "Python 3 (ipykernel)",
   "language": "python",
   "name": "python3"
  },
  "language_info": {
   "codemirror_mode": {
    "name": "ipython",
    "version": 3
   },
   "file_extension": ".py",
   "mimetype": "text/x-python",
   "name": "python",
   "nbconvert_exporter": "python",
   "pygments_lexer": "ipython3",
   "version": "3.8.13"
  }
 },
 "nbformat": 4,
 "nbformat_minor": 5
}
