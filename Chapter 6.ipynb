{
 "cells": [
  {
   "cell_type": "code",
   "execution_count": 1,
   "id": "0d34789a",
   "metadata": {},
   "outputs": [
    {
     "name": "stderr",
     "output_type": "stream",
     "text": [
      "C:\\Users\\hinoj\\anaconda3\\lib\\site-packages\\outdated\\utils.py:14: OutdatedPackageWarning: The package outdated is out of date. Your version is 0.2.1, the latest is 0.2.2.\n",
      "Set the environment variable OUTDATED_IGNORE=1 to disable these warnings.\n",
      "  return warn(\n"
     ]
    }
   ],
   "source": [
    "import math\n",
    "import numpy as np\n",
    "import pandas as pd\n",
    "import matplotlib.pyplot as plt\n",
    "import seaborn as sns\n",
    "from scipy import stats\n",
    "from statistics import mean, stdev\n",
    "import pingouin as pg"
   ]
  },
  {
   "cell_type": "markdown",
   "id": "ca54bf0a",
   "metadata": {},
   "source": [
    "1. The data below are the yields of four varieties of oats, each planted in three fields. Complete an analysis of variance table for these data and test to determine if there are significant differences among the means of the varieties. Follow up your analysis by using an appropriate method to identify which groups differ from which (using a 5% level of significance)."
   ]
  },
  {
   "cell_type": "markdown",
   "id": "f0cf1c2f",
   "metadata": {},
   "source": [
    "| Variety | Yield |     |     |\n",
    "|:-------:|:-----:|-----|-----|\n",
    "|    1    |   10  | 20  | 0   |\n",
    "|    2    |  200  | 0   | 100 |\n",
    "|    3    |   7   | 800 | 700 |\n",
    "|    4    |   0   | 20  | 40  |"
   ]
  },
  {
   "cell_type": "code",
   "execution_count": 2,
   "id": "2d49a9b8",
   "metadata": {},
   "outputs": [],
   "source": [
    "variety = [\"1\", \"1\", \"1\", \n",
    "           \"2\", \"2\", \"2\",\n",
    "           \"3\", \"3\", \"3\",\n",
    "           \"4\", \"4\", \"4\"]"
   ]
  },
  {
   "cell_type": "code",
   "execution_count": 3,
   "id": "3c6650e0",
   "metadata": {},
   "outputs": [],
   "source": [
    "yiel = [10, 20, 0,\n",
    "         200, 0, 100,\n",
    "         7, 800, 700,\n",
    "         0, 20, 40]"
   ]
  },
  {
   "cell_type": "code",
   "execution_count": 4,
   "id": "c54ca1d9",
   "metadata": {},
   "outputs": [
    {
     "data": {
      "text/html": [
       "<div>\n",
       "<style scoped>\n",
       "    .dataframe tbody tr th:only-of-type {\n",
       "        vertical-align: middle;\n",
       "    }\n",
       "\n",
       "    .dataframe tbody tr th {\n",
       "        vertical-align: top;\n",
       "    }\n",
       "\n",
       "    .dataframe thead th {\n",
       "        text-align: right;\n",
       "    }\n",
       "</style>\n",
       "<table border=\"1\" class=\"dataframe\">\n",
       "  <thead>\n",
       "    <tr style=\"text-align: right;\">\n",
       "      <th></th>\n",
       "      <th>Variety</th>\n",
       "      <th>Yield</th>\n",
       "    </tr>\n",
       "  </thead>\n",
       "  <tbody>\n",
       "    <tr>\n",
       "      <th>0</th>\n",
       "      <td>1</td>\n",
       "      <td>10</td>\n",
       "    </tr>\n",
       "    <tr>\n",
       "      <th>1</th>\n",
       "      <td>1</td>\n",
       "      <td>20</td>\n",
       "    </tr>\n",
       "    <tr>\n",
       "      <th>2</th>\n",
       "      <td>1</td>\n",
       "      <td>0</td>\n",
       "    </tr>\n",
       "    <tr>\n",
       "      <th>3</th>\n",
       "      <td>2</td>\n",
       "      <td>200</td>\n",
       "    </tr>\n",
       "    <tr>\n",
       "      <th>4</th>\n",
       "      <td>2</td>\n",
       "      <td>0</td>\n",
       "    </tr>\n",
       "  </tbody>\n",
       "</table>\n",
       "</div>"
      ],
      "text/plain": [
       "  Variety  Yield\n",
       "0       1     10\n",
       "1       1     20\n",
       "2       1      0\n",
       "3       2    200\n",
       "4       2      0"
      ]
     },
     "execution_count": 4,
     "metadata": {},
     "output_type": "execute_result"
    }
   ],
   "source": [
    "data = pd.DataFrame({\"Variety\": variety, \"Yield\": yiel})\n",
    "data.head()"
   ]
  },
  {
   "cell_type": "code",
   "execution_count": 5,
   "id": "bd353507",
   "metadata": {},
   "outputs": [
    {
     "data": {
      "image/png": "[encoded data removed]",
      "text/plain": [
       "<Figure size 576x288 with 1 Axes>"
      ]
     },
     "metadata": {},
     "output_type": "display_data"
    }
   ],
   "source": [
    "fig, ax = plt.subplots(1, 1, figsize=(8, 4))\n",
    "sns.boxplot(x=\"Variety\", y=\"Yield\", data=data, ax=ax)\n",
    "sns.swarmplot(x=\"Variety\", y=\"Yield\", data=data, color='black', alpha = 0.5, ax=ax)\n",
    "plt.show()"
   ]
  },
  {
   "cell_type": "code",
   "execution_count": 6,
   "id": "18d41de6",
   "metadata": {},
   "outputs": [
    {
     "data": {
      "text/html": [
       "<div>\n",
       "<style scoped>\n",
       "    .dataframe tbody tr th:only-of-type {\n",
       "        vertical-align: middle;\n",
       "    }\n",
       "\n",
       "    .dataframe tbody tr th {\n",
       "        vertical-align: top;\n",
       "    }\n",
       "\n",
       "    .dataframe thead th {\n",
       "        text-align: right;\n",
       "    }\n",
       "</style>\n",
       "<table border=\"1\" class=\"dataframe\">\n",
       "  <thead>\n",
       "    <tr style=\"text-align: right;\">\n",
       "      <th></th>\n",
       "      <th>Source</th>\n",
       "      <th>SS</th>\n",
       "      <th>DF</th>\n",
       "      <th>MS</th>\n",
       "      <th>F</th>\n",
       "      <th>p-unc</th>\n",
       "      <th>np2</th>\n",
       "    </tr>\n",
       "  </thead>\n",
       "  <tbody>\n",
       "    <tr>\n",
       "      <th>0</th>\n",
       "      <td>Variety</td>\n",
       "      <td>488632.250000</td>\n",
       "      <td>3</td>\n",
       "      <td>162877.416667</td>\n",
       "      <td>3.306881</td>\n",
       "      <td>0.078242</td>\n",
       "      <td>0.553587</td>\n",
       "    </tr>\n",
       "    <tr>\n",
       "      <th>1</th>\n",
       "      <td>Within</td>\n",
       "      <td>394032.666667</td>\n",
       "      <td>8</td>\n",
       "      <td>49254.083333</td>\n",
       "      <td>NaN</td>\n",
       "      <td>NaN</td>\n",
       "      <td>NaN</td>\n",
       "    </tr>\n",
       "  </tbody>\n",
       "</table>\n",
       "</div>"
      ],
      "text/plain": [
       "    Source             SS  DF             MS         F     p-unc       np2\n",
       "0  Variety  488632.250000   3  162877.416667  3.306881  0.078242  0.553587\n",
       "1   Within  394032.666667   8   49254.083333       NaN       NaN       NaN"
      ]
     },
     "execution_count": 6,
     "metadata": {},
     "output_type": "execute_result"
    }
   ],
   "source": [
    "pg.anova(data=data, dv=\"Yield\", between=\"Variety\", detailed=True)"
   ]
  },
  {
   "cell_type": "markdown",
   "id": "5e5a0796",
   "metadata": {},
   "source": [
    "2. An investigation was made of the concentration of a particular species of bacterium sometimes found in freshwater. Samples were taken from four different locations, and the concentrations (in millions of bacteria per liter of water) are tabulated below:"
   ]
  },
  {
   "cell_type": "markdown",
   "id": "8b3139e7",
   "metadata": {},
   "source": [
    "|   Loc   |      |      |      |\n",
    "|:-------:|:----:|------|------|\n",
    "|    1    | 4.14 | 4.15 | 4.12 |\n",
    "|    2    | 4.91 | 5.00 | 5.07 |\n",
    "|    3    | 4.27 | 4.27 | 4.43 |\n",
    "|    4    | 4.09 | 4.23 | 4.12 |\n",
    "\n",
    "Test to determine if there are significant differences among the mean concentrationsfrom the four locations. Use a multiple comparison test to determine which, if any, of the sites have significantly higher concentrations. Use a 5% significance level throughout."
   ]
  },
  {
   "cell_type": "code",
   "execution_count": 7,
   "id": "c122a10d",
   "metadata": {},
   "outputs": [],
   "source": [
    "loc = [\"1\", \"1\", \"1\", \n",
    "       \"2\", \"2\", \"2\",\n",
    "       \"3\", \"3\", \"3\",\n",
    "       \"4\", \"4\", \"4\"]"
   ]
  },
  {
   "cell_type": "code",
   "execution_count": 8,
   "id": "2956469c",
   "metadata": {},
   "outputs": [],
   "source": [
    "con = [4.14, 4.15, 4.12,\n",
    "       4.91, 5.00, 5.07,\n",
    "       4.27, 4.43, 4.12,\n",
    "       4.09, 4.23, 4.12]        "
   ]
  },
  {
   "cell_type": "code",
   "execution_count": 9,
   "id": "8e038b76",
   "metadata": {},
   "outputs": [
    {
     "data": {
      "text/html": [
       "<div>\n",
       "<style scoped>\n",
       "    .dataframe tbody tr th:only-of-type {\n",
       "        vertical-align: middle;\n",
       "    }\n",
       "\n",
       "    .dataframe tbody tr th {\n",
       "        vertical-align: top;\n",
       "    }\n",
       "\n",
       "    .dataframe thead th {\n",
       "        text-align: right;\n",
       "    }\n",
       "</style>\n",
       "<table border=\"1\" class=\"dataframe\">\n",
       "  <thead>\n",
       "    <tr style=\"text-align: right;\">\n",
       "      <th></th>\n",
       "      <th>location</th>\n",
       "      <th>concentration</th>\n",
       "    </tr>\n",
       "  </thead>\n",
       "  <tbody>\n",
       "    <tr>\n",
       "      <th>0</th>\n",
       "      <td>1</td>\n",
       "      <td>4.14</td>\n",
       "    </tr>\n",
       "    <tr>\n",
       "      <th>1</th>\n",
       "      <td>1</td>\n",
       "      <td>4.15</td>\n",
       "    </tr>\n",
       "    <tr>\n",
       "      <th>2</th>\n",
       "      <td>1</td>\n",
       "      <td>4.12</td>\n",
       "    </tr>\n",
       "    <tr>\n",
       "      <th>3</th>\n",
       "      <td>2</td>\n",
       "      <td>4.91</td>\n",
       "    </tr>\n",
       "    <tr>\n",
       "      <th>4</th>\n",
       "      <td>2</td>\n",
       "      <td>5.00</td>\n",
       "    </tr>\n",
       "  </tbody>\n",
       "</table>\n",
       "</div>"
      ],
      "text/plain": [
       "  location  concentration\n",
       "0        1           4.14\n",
       "1        1           4.15\n",
       "2        1           4.12\n",
       "3        2           4.91\n",
       "4        2           5.00"
      ]
     },
     "execution_count": 9,
     "metadata": {},
     "output_type": "execute_result"
    }
   ],
   "source": [
    "data = pd.DataFrame({\"location\": loc, \"concentration\": con})\n",
    "data.head()"
   ]
  },
  {
   "cell_type": "code",
   "execution_count": 10,
   "id": "f4df20ab",
   "metadata": {},
   "outputs": [
    {
     "data": {
      "image/png": "[encoded data removed]",
      "text/plain": [
       "<Figure size 576x288 with 1 Axes>"
      ]
     },
     "metadata": {},
     "output_type": "display_data"
    }
   ],
   "source": [
    "fig, ax = plt.subplots(1, 1, figsize=(8, 4))\n",
    "sns.boxplot(x=\"location\", y=\"concentration\", data=data, ax=ax)\n",
    "sns.swarmplot(x=\"location\", y=\"concentration\", data=data, color='black', alpha = 0.5, ax=ax)\n",
    "plt.show()"
   ]
  },
  {
   "cell_type": "code",
   "execution_count": 11,
   "id": "4af36554",
   "metadata": {},
   "outputs": [
    {
     "data": {
      "text/html": [
       "<div>\n",
       "<style scoped>\n",
       "    .dataframe tbody tr th:only-of-type {\n",
       "        vertical-align: middle;\n",
       "    }\n",
       "\n",
       "    .dataframe tbody tr th {\n",
       "        vertical-align: top;\n",
       "    }\n",
       "\n",
       "    .dataframe thead th {\n",
       "        text-align: right;\n",
       "    }\n",
       "</style>\n",
       "<table border=\"1\" class=\"dataframe\">\n",
       "  <thead>\n",
       "    <tr style=\"text-align: right;\">\n",
       "      <th></th>\n",
       "      <th>Source</th>\n",
       "      <th>SS</th>\n",
       "      <th>DF</th>\n",
       "      <th>MS</th>\n",
       "      <th>F</th>\n",
       "      <th>p-unc</th>\n",
       "      <th>np2</th>\n",
       "    </tr>\n",
       "  </thead>\n",
       "  <tbody>\n",
       "    <tr>\n",
       "      <th>0</th>\n",
       "      <td>location</td>\n",
       "      <td>1.502958</td>\n",
       "      <td>3</td>\n",
       "      <td>0.500986</td>\n",
       "      <td>55.459717</td>\n",
       "      <td>0.000011</td>\n",
       "      <td>0.954123</td>\n",
       "    </tr>\n",
       "    <tr>\n",
       "      <th>1</th>\n",
       "      <td>Within</td>\n",
       "      <td>0.072267</td>\n",
       "      <td>8</td>\n",
       "      <td>0.009033</td>\n",
       "      <td>NaN</td>\n",
       "      <td>NaN</td>\n",
       "      <td>NaN</td>\n",
       "    </tr>\n",
       "  </tbody>\n",
       "</table>\n",
       "</div>"
      ],
      "text/plain": [
       "     Source        SS  DF        MS          F     p-unc       np2\n",
       "0  location  1.502958   3  0.500986  55.459717  0.000011  0.954123\n",
       "1    Within  0.072267   8  0.009033        NaN       NaN       NaN"
      ]
     },
     "execution_count": 11,
     "metadata": {},
     "output_type": "execute_result"
    }
   ],
   "source": [
    "pg.anova(data=data, dv=\"concentration\", between=\"location\", detailed=True)"
   ]
  }
 ],
 "metadata": {
  "kernelspec": {
   "display_name": "Python 3 (Spyder)",
   "language": "python3",
   "name": "python3"
  },
  "language_info": {
   "codemirror_mode": {
    "name": "ipython",
    "version": 3
   },
   "file_extension": ".py",
   "mimetype": "text/x-python",
   "name": "python",
   "nbconvert_exporter": "python",
   "pygments_lexer": "ipython3",
   "version": "3.8.13"
  }
 },
 "nbformat": 4,
 "nbformat_minor": 5
}
