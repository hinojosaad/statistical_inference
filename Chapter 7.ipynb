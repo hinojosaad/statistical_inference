{
 "cells": [
  {
   "cell_type": "code",
   "execution_count": 1,
   "id": "5792494f",
   "metadata": {},
   "outputs": [],
   "source": [
    "import math\n",
    "#import numpy as np\n",
    "#import pandas as pd\n",
    "#import matplotlib.pyplot as plt\n",
    "#import seaborn as sns\n",
    "from scipy import stats\n",
    "from statistics import mean, stdev\n",
    "from sklearn import linear_model"
   ]
  },
  {
   "cell_type": "markdown",
   "id": "11181699",
   "metadata": {},
   "source": [
    "1. A firm has a fleet of six cars. It wishes to study the relationship between the fuelcost per mile (in pounds) of operating the car, against the car’s age (in years). The data is given below:"
   ]
  },
  {
   "cell_type": "markdown",
   "id": "e54b68c4",
   "metadata": {},
   "source": [
    "| Age | Fuel cost |\n",
    "|:---:|:---------:|\n",
    "|  1  |    2.0    | \n",
    "|  1  |    2.0    | \n",
    "|  2  |    2.0    | \n",
    "|  3  |    3.0    |\n",
    "|  4  |    2.5    | \n",
    "|  7  |    3.5    |"
   ]
  },
  {
   "cell_type": "markdown",
   "id": "9171992d",
   "metadata": {},
   "source": [
    "Fit a linear regression of fuel cost per mile against age. Use your regression to predict the expected fuel cost per mile for a car that is 2 years old."
   ]
  },
  {
   "cell_type": "code",
   "execution_count": 2,
   "id": "42de9193",
   "metadata": {},
   "outputs": [],
   "source": [
    "reg = linear_model.LinearRegression()"
   ]
  },
  {
   "cell_type": "code",
   "execution_count": 3,
   "id": "b0e903d9",
   "metadata": {},
   "outputs": [
    {
     "name": "stdout",
     "output_type": "stream",
     "text": [
      "1.75\n",
      "[0.25]\n"
     ]
    }
   ],
   "source": [
    "reg.fit([[1], [1], [2], [3], [4], [7]], [2, 2, 2, 3, 2.5, 3.5])\n",
    "print(reg.intercept_)\n",
    "print(reg.coef_)"
   ]
  },
  {
   "cell_type": "code",
   "execution_count": 4,
   "id": "c5e05070",
   "metadata": {},
   "outputs": [
    {
     "data": {
      "text/plain": [
       "array([2.25])"
      ]
     },
     "execution_count": 4,
     "metadata": {},
     "output_type": "execute_result"
    }
   ],
   "source": [
    "reg.predict([[2]])"
   ]
  },
  {
   "cell_type": "markdown",
   "id": "c871e986",
   "metadata": {},
   "source": [
    "2. The table below gives the lengths x and the head girths y of five squirrels, all measurements being in centimeters."
   ]
  },
  {
   "cell_type": "markdown",
   "id": "95e7fbe2",
   "metadata": {},
   "source": [
    "|  x |   y  |\n",
    "|:--:|:----:|\n",
    "| 23 | 15.6 | \n",
    "| 24 | 17.3 | \n",
    "| 25 | 17.9 | \n",
    "| 26 | 18.4 |\n",
    "| 27 | 19.1 | \n"
   ]
  },
  {
   "cell_type": "markdown",
   "id": "0dd9b5a7",
   "metadata": {},
   "source": [
    "Calculate the least square estimates of the slope and intercept of a straight line to predict y with x, and test the null hypothesis that the slope of the line relating x and y is equal to zero at a 1% significance level. State any assumptions made."
   ]
  },
  {
   "cell_type": "markdown",
   "id": "7672a570",
   "metadata": {},
   "source": [
    "We estimate the slope and the intercept:\n"
   ]
  },
  {
   "cell_type": "code",
   "execution_count": 5,
   "id": "57c411ce",
   "metadata": {},
   "outputs": [
    {
     "name": "stdout",
     "output_type": "stream",
     "text": [
      "[0.81]\n",
      "-2.590000000000007\n"
     ]
    }
   ],
   "source": [
    "reg.fit([[23], [24], [25], [26], [27]], [15.6, 17.3, 17.9, 18.4, 19.1])\n",
    "print(reg.coef_)\n",
    "print(reg.intercept_)"
   ]
  },
  {
   "cell_type": "markdown",
   "id": "59d3f75d",
   "metadata": {},
   "source": [
    "We make use of the fact that $\\frac{\\hat\\beta -\\beta}{\\sqrt{\\frac{s^2}{S_{xx}}}}$ distributes as $t(n-2)$"
   ]
  },
  {
   "cell_type": "code",
   "execution_count": 6,
   "id": "15695ebe",
   "metadata": {},
   "outputs": [],
   "source": [
    "SS_e = (([15.6, 17.3, 17.9, 18.4, 19.1] - reg.predict([[23], [24], [25], [26], [27]]))** 2).sum() "
   ]
  },
  {
   "cell_type": "code",
   "execution_count": 7,
   "id": "e199d05b",
   "metadata": {},
   "outputs": [],
   "source": [
    "s2 = SS_e/3"
   ]
  },
  {
   "cell_type": "code",
   "execution_count": 8,
   "id": "fc402db4",
   "metadata": {},
   "outputs": [],
   "source": [
    "m_x = mean([23, 24, 25, 26, 27])\n",
    "s_xx = (23-m_x)**2+(24-m_x)**2+(25-m_x)**2+(26-m_x)**2+(27-m_x)**2"
   ]
  },
  {
   "cell_type": "markdown",
   "id": "d06c3b6f",
   "metadata": {},
   "source": [
    "The value of the statistic when $\\beta=0$ is given by"
   ]
  },
  {
   "cell_type": "code",
   "execution_count": 9,
   "id": "964a558b",
   "metadata": {},
   "outputs": [
    {
     "data": {
      "text/plain": [
       "6.331475055209927"
      ]
     },
     "execution_count": 9,
     "metadata": {},
     "output_type": "execute_result"
    }
   ],
   "source": [
    "reg.coef_[0]/(math.sqrt(s2/s_xx))"
   ]
  },
  {
   "cell_type": "markdown",
   "id": "c359ccf4",
   "metadata": {},
   "source": [
    "And the acceptance region is:"
   ]
  },
  {
   "cell_type": "code",
   "execution_count": 10,
   "id": "a02258f7",
   "metadata": {},
   "outputs": [
    {
     "data": {
      "text/plain": [
       "(-5.84090929975643, 5.84090929975643)"
      ]
     },
     "execution_count": 10,
     "metadata": {},
     "output_type": "execute_result"
    }
   ],
   "source": [
    "(-stats.t.ppf(.995, df=3),stats.t.ppf(.995, df=3))"
   ]
  },
  {
   "cell_type": "markdown",
   "id": "1889854e",
   "metadata": {},
   "source": [
    "So we reject the null hypothesis."
   ]
  },
  {
   "cell_type": "markdown",
   "id": "2635ecd7",
   "metadata": {},
   "source": [
    "3. The table below gives the lengths x and the head girths y of ten redfish, all measurements being in centimeters."
   ]
  },
  {
   "cell_type": "markdown",
   "id": "5c0b8a97",
   "metadata": {},
   "source": [
    "|  x |   y  |\n",
    "|:--:|:----:|\n",
    "| 23 | 15.6 | \n",
    "| 24 | 17.3 | \n",
    "| 25 | 17.9 | \n",
    "| 26 | 18.4 |\n",
    "| 27 | 19.1 | \n",
    "| 28 | 20.1 | \n",
    "| 29 | 20.8 | \n",
    "| 30 | 21.8 | \n",
    "| 31 | 22.3 |\n",
    "| 32 | 22.8 |"
   ]
  },
  {
   "cell_type": "markdown",
   "id": "1cf39d0b",
   "metadata": {},
   "source": [
    "Calculate the least square estimates of the slope and intercept of a straight line to predict y with x, and test the null hypothesis that the slope of the line relating x and y is equal to zero at a 1% significance level. Calculate the 95% confidence interval for the head girth of a fish of length 23cm and comment on the measurement already made of a fish of length 23 cm."
   ]
  },
  {
   "cell_type": "markdown",
   "id": "9903f9d1",
   "metadata": {},
   "source": [
    "- Slope an intersect:"
   ]
  },
  {
   "cell_type": "code",
   "execution_count": 11,
   "id": "756d18a0",
   "metadata": {},
   "outputs": [
    {
     "name": "stdout",
     "output_type": "stream",
     "text": [
      "[0.77272727]\n",
      "-1.6399999999999935\n"
     ]
    }
   ],
   "source": [
    "reg.fit([[23], [24], [25], [26], [27], [28], [29], [30], [31], [32]], [15.6, 17.3, 17.9, 18.4, 19.1, 20.1, 20.8, 21.8, 22.3, 22.8])\n",
    "print(reg.coef_)\n",
    "print(reg.intercept_)"
   ]
  },
  {
   "cell_type": "markdown",
   "id": "2f06922a",
   "metadata": {},
   "source": [
    "- Hypothesis testing for the slope:"
   ]
  },
  {
   "cell_type": "code",
   "execution_count": 12,
   "id": "7e638d85",
   "metadata": {},
   "outputs": [],
   "source": [
    "SS_e = (([15.6, 17.3, 17.9, 18.4, 19.1, 20.1, 20.8, 21.8, 22.3, 22.8] - reg.predict([[23], [24], [25], [26], [27], [28], [29], [30], [31], [32]]))** 2).sum() \n",
    "s2 = SS_e/8\n",
    "m_x = mean([23, 24, 25, 26, 27, 28, 29, 30, 31, 32])\n",
    "s_xx = (23-m_x)**2+(24-m_x)**2+(25-m_x)**2+(26-m_x)**2+(27-m_x)**2+(28-m_x)**2+(29-m_x)**2+(30-m_x)**2+(31-m_x)**2+(32-m_x)**2"
   ]
  },
  {
   "cell_type": "code",
   "execution_count": 13,
   "id": "f56c3dab",
   "metadata": {},
   "outputs": [
    {
     "data": {
      "text/plain": [
       "24.29563289518876"
      ]
     },
     "execution_count": 13,
     "metadata": {},
     "output_type": "execute_result"
    }
   ],
   "source": [
    "reg.coef_[0]/(math.sqrt(s2/s_xx))"
   ]
  },
  {
   "cell_type": "code",
   "execution_count": 14,
   "id": "404d485a",
   "metadata": {},
   "outputs": [
    {
     "data": {
      "text/plain": [
       "(-3.3553873313333957, 3.3553873313333957)"
      ]
     },
     "execution_count": 14,
     "metadata": {},
     "output_type": "execute_result"
    }
   ],
   "source": [
    "(-stats.t.ppf(.995, df=8),stats.t.ppf(.995, df=8))"
   ]
  },
  {
   "cell_type": "markdown",
   "id": "153d0caa",
   "metadata": {},
   "source": [
    "We reject the null hypothesis"
   ]
  },
  {
   "cell_type": "raw",
   "id": "b957f96f",
   "metadata": {},
   "source": [
    "- Confidence interval for the head "
   ]
  },
  {
   "cell_type": "markdown",
   "id": "bf57fb02",
   "metadata": {},
   "source": [
    "We make use of the fact that $\\frac{\\hat y_0 -y_0}{\\sqrt{s^2\\left(\\frac{1}{n}+\\frac{(x_0-\\bar x)^2}{S_{xx}}\\right)}}$ distributes as $t(n-2)$ implying that a 95% confidence iterval is given by $$ y_0 \\pm t_{.975}(n-2)\\sqrt{s^2\\left(\\frac{1}{n}+\\frac{(x_0-\\bar x)^2}{S_{xx}}\\right)} $$"
   ]
  },
  {
   "cell_type": "code",
   "execution_count": 15,
   "id": "914f615f",
   "metadata": {},
   "outputs": [],
   "source": [
    "t_975 = stats.t.ppf(.975, df=8)\n",
    "c = t_975*(math.sqrt(s2*((1/10)+((23-m_x)**2)/(s_xx))))\n",
    "y_0 = reg.predict([[23]])[0]"
   ]
  },
  {
   "cell_type": "code",
   "execution_count": 16,
   "id": "d8503893",
   "metadata": {},
   "outputs": [
    {
     "data": {
      "text/plain": [
       "(15.741183306787272, 16.524271238667282)"
      ]
     },
     "execution_count": 16,
     "metadata": {},
     "output_type": "execute_result"
    }
   ],
   "source": [
    "(y_0-c,y_0+c)"
   ]
  },
  {
   "cell_type": "markdown",
   "id": "7f576ac6",
   "metadata": {},
   "source": [
    "The value is out the confidence interval"
   ]
  }
 ],
 "metadata": {
  "kernelspec": {
   "display_name": "Python 3 (Spyder)",
   "language": "python3",
   "name": "python3"
  },
  "language_info": {
   "codemirror_mode": {
    "name": "ipython",
    "version": 3
   },
   "file_extension": ".py",
   "mimetype": "text/x-python",
   "name": "python",
   "nbconvert_exporter": "python",
   "pygments_lexer": "ipython3",
   "version": "3.8.13"
  }
 },
 "nbformat": 4,
 "nbformat_minor": 5
}
