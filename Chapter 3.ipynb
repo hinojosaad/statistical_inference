{
 "cells": [
  {
   "cell_type": "code",
   "execution_count": null,
   "id": "3ceca928",
   "metadata": {},
   "outputs": [],
   "source": [
    "import math\n",
    "from scipy import stats"
   ]
  },
  {
   "cell_type": "markdown",
   "id": "6cba8dba",
   "metadata": {},
   "source": [
    "1. The following sample of size $5$ was taken randomly from a population with unknown mean and unknown variance: $4$, $2$, $3$, $1$, $5$. Compute unbiased estimates for the population mean and population variance."
   ]
  },
  {
   "cell_type": "code",
   "execution_count": 1,
   "id": "6a53e24d",
   "metadata": {},
   "outputs": [
    {
     "data": {
      "text/plain": [
       "3.0"
      ]
     },
     "execution_count": 1,
     "metadata": {},
     "output_type": "execute_result"
    }
   ],
   "source": [
    "(4+2+3+1+5)/5"
   ]
  },
  {
   "cell_type": "code",
   "execution_count": 2,
   "id": "756bcec0",
   "metadata": {},
   "outputs": [
    {
     "data": {
      "text/plain": [
       "2.5"
      ]
     },
     "execution_count": 2,
     "metadata": {},
     "output_type": "execute_result"
    }
   ],
   "source": [
    "(4**2+2**2+3**2+1**2+5**2-(4+2+3+1+5)**2/5)/4"
   ]
  },
  {
   "cell_type": "markdown",
   "id": "c711d76d",
   "metadata": {},
   "source": [
    "2. A coin, when tossed, has probability $p$ of falling heads. In order to estimate the probability $\\theta$ of obtaining two heads in two successive tosses, the coin is tossed $n$ times. If $X$ heads are obtained, show that $\\hat{θ} = \\frac{X(X − 1)}{n(n − 1)}$ is an unbiased estimator for $θ$."
   ]
  },
  {
   "cell_type": "markdown",
   "id": "c7a0dfc7",
   "metadata": {},
   "source": [
    "$X$ distributes as Binomial $B(n,p)$ and in consequence\n",
    "$$E(X(X-1))=np-(np(1-p)+n^2p^2)=n(n-1)p^2$$"
   ]
  },
  {
   "cell_type": "code",
   "execution_count": null,
   "id": "32947d74",
   "metadata": {},
   "outputs": [],
   "source": []
  }
 ],
 "metadata": {
  "kernelspec": {
   "display_name": "Python 3 (ipykernel)",
   "language": "python",
   "name": "python3"
  },
  "language_info": {
   "codemirror_mode": {
    "name": "ipython",
    "version": 3
   },
   "file_extension": ".py",
   "mimetype": "text/x-python",
   "name": "python",
   "nbconvert_exporter": "python",
   "pygments_lexer": "ipython3",
   "version": "3.8.13"
  }
 },
 "nbformat": 4,
 "nbformat_minor": 5
}
