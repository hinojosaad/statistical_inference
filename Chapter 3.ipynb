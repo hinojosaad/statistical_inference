{
 "cells": [
  {
   "cell_type": "code",
   "execution_count": 1,
   "id": "3ceca928",
   "metadata": {},
   "outputs": [],
   "source": [
    "import math\n",
    "from scipy import stats"
   ]
  },
  {
   "cell_type": "markdown",
   "id": "6cba8dba",
   "metadata": {},
   "source": [
    "1. The following sample of size $5$ was taken randomly from a population with unknown mean and unknown variance: $4$, $2$, $3$, $1$, $5$. Compute unbiased estimates for the population mean and population variance."
   ]
  },
  {
   "cell_type": "code",
   "execution_count": 2,
   "id": "6a53e24d",
   "metadata": {},
   "outputs": [
    {
     "data": {
      "text/plain": [
       "3.0"
      ]
     },
     "execution_count": 2,
     "metadata": {},
     "output_type": "execute_result"
    }
   ],
   "source": [
    "(4+2+3+1+5)/5"
   ]
  },
  {
   "cell_type": "code",
   "execution_count": 3,
   "id": "756bcec0",
   "metadata": {},
   "outputs": [
    {
     "data": {
      "text/plain": [
       "2.5"
      ]
     },
     "execution_count": 3,
     "metadata": {},
     "output_type": "execute_result"
    }
   ],
   "source": [
    "(4**2+2**2+3**2+1**2+5**2-(4+2+3+1+5)**2/5)/4"
   ]
  },
  {
   "cell_type": "markdown",
   "id": "c711d76d",
   "metadata": {},
   "source": [
    "2. A coin, when tossed, has probability $p$ of falling heads. In order to estimate the probability $\\theta$ of obtaining two heads in two successive tosses, the coin is tossed $n$ times. If $X$ heads are obtained, show that $\\hat{θ} = \\frac{X(X − 1)}{n(n − 1)}$ is an unbiased estimator for $θ$."
   ]
  },
  {
   "cell_type": "markdown",
   "id": "c7a0dfc7",
   "metadata": {},
   "source": [
    "$X$ distributes as Binomial $B(n,p)$ and in consequence\n",
    "$$E(X(X-1))=np-(np(1-p)+n^2p^2)=n(n-1)p^2$$"
   ]
  },
  {
   "cell_type": "markdown",
   "id": "1c6280a5",
   "metadata": {},
   "source": [
    "3. A thousand boxes are stored in a warehouse. A quarter of the boxes weigh $2$ kg each, half of the boxes weigh $3$ kg each, and the remainder weigh $4$ kg each. Three boxes are chosen at random (with replacement). Let $\\bar{X}$ and $M$ denote the mean and median, respectively, of the weights of these three boxes. Find the sampling distributions of $\\bar{X}$ and $M$, and show that $1000 \\bar{X}$ and $1000M$ are unbiased estimators of the total weight of all the boxes. Which estimate of the total weight of all the boxes has the smallest mean square error?"
   ]
  },
  {
   "cell_type": "markdown",
   "id": "87ef294d",
   "metadata": {},
   "source": [
    "4. A firm wishing to estimate the mean number of stoppages per day of a certain piece of machinery decides to make use of past records. These records are not complete and show only for each day whether there were either (i) no stoppages or (ii) at least one stoppage. Examination of these records shows that during a period covering 1000 working days, there were 96 days with no stoppages. Assuming the number of stoppages each day is a Poisson random variable with mean λ, use this information to estimate λ."
   ]
  },
  {
   "cell_type": "markdown",
   "id": "3643b5de",
   "metadata": {},
   "source": [
    "With the avaiable information each working day can be modeled by a Bernouilly distribution $X$ with $p=1-e^{-\\lambda}$, which implies $E(X)=1 -e^{-\\lambda}$. Thus we deduce that $E(\\bar{X})= 1 -e^{-\\lambda}=\\frac{96}{100} $ and we can estimate $\\lambda$ by $\\log 25$."
   ]
  },
  {
   "cell_type": "code",
   "execution_count": 4,
   "id": "ee03965a",
   "metadata": {},
   "outputs": [
    {
     "data": {
      "text/plain": [
       "3.2188758248682006"
      ]
     },
     "execution_count": 4,
     "metadata": {},
     "output_type": "execute_result"
    }
   ],
   "source": [
    "math.log(25)"
   ]
  },
  {
   "cell_type": "markdown",
   "id": "9769afd7",
   "metadata": {},
   "source": [
    "5. The random variable $X$ has the Exponential distribution with probability density function $$f (x; \\theta) = \\frac{1}{θ} \\exp(−\\frac{x}{\\theta}), x > 0, \\theta >0 .$$ A random sample $X_1$, $X_2$, ... , $X_n$ is taken from $X$."
   ]
  },
  {
   "cell_type": "markdown",
   "id": "0cec3f60",
   "metadata": {},
   "source": [
    "a. Show that the probability density function of the minimum W of the random sample is given by $h (w; \\theta) = \\frac{n}{θ} \\exp(−\\frac{nw}{\\theta}), w > 0, \\theta >0 .$"
   ]
  },
  {
   "cell_type": "markdown",
   "id": "ba9a61a5",
   "metadata": {},
   "source": [
    "b. Show that $W$ is a biased estimator of $\\theta$, and hence propose an alternative estimator, based on $W$, which is an unbiased estimator of $\\theta$."
   ]
  },
  {
   "cell_type": "markdown",
   "id": "c4212298",
   "metadata": {},
   "source": [
    "$E(W)=\\frac{\\theta}{n}$ thus $nW$ is an unbiased estimator of $\\theta$."
   ]
  },
  {
   "cell_type": "code",
   "execution_count": null,
   "id": "c8635b13",
   "metadata": {},
   "outputs": [],
   "source": []
  }
 ],
 "metadata": {
  "kernelspec": {
   "display_name": "Python 3 (ipykernel)",
   "language": "python",
   "name": "python3"
  },
  "language_info": {
   "codemirror_mode": {
    "name": "ipython",
    "version": 3
   },
   "file_extension": ".py",
   "mimetype": "text/x-python",
   "name": "python",
   "nbconvert_exporter": "python",
   "pygments_lexer": "ipython3",
   "version": "3.8.13"
  }
 },
 "nbformat": 4,
 "nbformat_minor": 5
}
