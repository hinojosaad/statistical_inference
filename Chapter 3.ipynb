{
 "cells": [
  {
   "cell_type": "code",
   "execution_count": 1,
   "id": "3ceca928",
   "metadata": {},
   "outputs": [],
   "source": [
    "import math\n",
    "from scipy import stats"
   ]
  },
  {
   "cell_type": "markdown",
   "id": "6cba8dba",
   "metadata": {},
   "source": [
    "1. The following sample of size $5$ was taken randomly from a population with unknown mean and unknown variance: $4$, $2$, $3$, $1$, $5$. Compute unbiased estimates for the population mean and population variance."
   ]
  },
  {
   "cell_type": "code",
   "execution_count": 2,
   "id": "6a53e24d",
   "metadata": {},
   "outputs": [
    {
     "data": {
      "text/plain": [
       "3.0"
      ]
     },
     "execution_count": 2,
     "metadata": {},
     "output_type": "execute_result"
    }
   ],
   "source": [
    "(4+2+3+1+5)/5"
   ]
  },
  {
   "cell_type": "code",
   "execution_count": 3,
   "id": "756bcec0",
   "metadata": {},
   "outputs": [
    {
     "data": {
      "text/plain": [
       "2.5"
      ]
     },
     "execution_count": 3,
     "metadata": {},
     "output_type": "execute_result"
    }
   ],
   "source": [
    "(4**2+2**2+3**2+1**2+5**2-(4+2+3+1+5)**2/5)/4"
   ]
  },
  {
   "cell_type": "markdown",
   "id": "c711d76d",
   "metadata": {},
   "source": [
    "2. A coin, when tossed, has probability $p$ of falling heads. In order to estimate the probability $\\theta$ of obtaining two heads in two successive tosses, the coin is tossed $n$ times. If $X$ heads are obtained, show that $\\hat{θ} = \\frac{X(X − 1)}{n(n − 1)}$ is an unbiased estimator for $θ$."
   ]
  },
  {
   "cell_type": "markdown",
   "id": "c7a0dfc7",
   "metadata": {},
   "source": [
    "$X$ distributes as Binomial $B(n,p)$ and in consequence\n",
    "$$E(X(X-1))=np-(np(1-p)+n^2p^2)=n(n-1)p^2$$"
   ]
  },
  {
   "cell_type": "markdown",
   "id": "ba3c0a71",
   "metadata": {},
   "source": [
    "3. A thousand boxes are stored in a warehouse. A quarter of the boxes weigh $2$ kg each, half of the boxes weigh $3$ kg each, and the remainder weigh $4$ kg each. Three boxes are chosen at random (with replacement). Let $\\bar{X}$ and $M$ denote the mean and median, respectively, of the weights of these three boxes. Find the sampling distributions of $\\bar{X}$ and $M$, and show that $1000 \\bar{X}$ and $1000M$ are unbiased estimators of the total weight of all the boxes. Which estimate of the total weight of all the boxes has the smallest mean square error?"
   ]
  },
  {
   "cell_type": "markdown",
   "id": "26862ee0",
   "metadata": {},
   "source": [
    "4. A firm wishing to estimate the mean number of stoppages per day of a certain piece of machinery decides to make use of past records. These records are not complete and show only for each day whether there were either (i) no stoppages or (ii) at least one stoppage. Examination of these records shows that during a period covering 1000 working days, there were 96 days with no stoppages. Assuming the number of stoppages each day is a Poisson random variable with mean λ, use this information to estimate λ."
   ]
  },
  {
   "cell_type": "markdown",
   "id": "c76c52c1",
   "metadata": {},
   "source": [
    "With the avaiable information each working day can be modeled by a Bernouilly distribution $X$ with $p=1-e^{-\\lambda}$, which implies $E(X)=1 -e^{-\\lambda}$. Thus we deduce that $E(\\bar{X})= 1 -e^{-\\lambda}=\\frac{96}{100} $ and we can estimate $\\lambda$ by $\\log 25$."
   ]
  },
  {
   "cell_type": "code",
   "execution_count": 4,
   "id": "dfc37741",
   "metadata": {},
   "outputs": [
    {
     "data": {
      "text/plain": [
       "3.2188758248682006"
      ]
     },
     "execution_count": 4,
     "metadata": {},
     "output_type": "execute_result"
    }
   ],
   "source": [
    "math.log(25)"
   ]
  },
  {
   "cell_type": "markdown",
   "id": "fc9bad4c",
   "metadata": {},
   "source": [
    "5. The random variable $X$ has the Exponential distribution with probability density function $$f (x; \\theta) = \\frac{1}{θ} \\exp(−\\frac{x}{\\theta}), x > 0, \\theta >0 .$$ A random sample $X_1$, $X_2$, ... , $X_n$ is taken from $X$."
   ]
  },
  {
   "cell_type": "markdown",
   "id": "ce1fca6c",
   "metadata": {},
   "source": [
    "a. Show that the probability density function of the minimum W of the random sample is given by $h (w; \\theta) = \\frac{n}{θ} \\exp(−\\frac{nw}{\\theta}), w > 0, \\theta >0 .$"
   ]
  },
  {
   "cell_type": "markdown",
   "id": "7f55d6e5",
   "metadata": {},
   "source": [
    "b. Show that $W$ is a biased estimator of $\\theta$, and hence propose an alternative estimator, based on $W$, which is an unbiased estimator of $\\theta$."
   ]
  },
  {
   "cell_type": "markdown",
   "id": "214378fa",
   "metadata": {},
   "source": [
    "$E(W)=\\frac{\\theta}{n}$ thus $nW$ is an unbiased estimator of $\\theta$."
   ]
  },
  {
   "cell_type": "markdown",
   "id": "8122cf28",
   "metadata": {},
   "source": [
    "6. The lifetime $T$ of a bulb has the probability density function $$f (t) = \\alpha^2t \\exp(−\\alpha t)$$ for $t \\geq 0$, where $\\alpha$ is an unknown positive constant. Five bulbs were tested to destruction, and the observed lifetimes, in hours, were $$870.2, 502.9, 540.3, 62.5, 589.8.$$ Show that the expected value of $T$ is twice the mode (the mode is the value of $t$ which maximizes $f(t)$) and hence find an unbiased estimator of the mode. Find the variance of your estimate."
   ]
  },
  {
   "cell_type": "markdown",
   "id": "81e73a1f",
   "metadata": {},
   "source": [
    "We have that $$E(T)=\\alpha^2\\int_0^\\infty t^2 \\exp(-\\alpha t)dt= \\frac{2}{\\alpha}. $$ It is an elementary calculus problem to proof that the maximum of $f$ is reached at $\\frac{1}{\\alpha}$."
   ]
  },
  {
   "cell_type": "markdown",
   "id": "d8c72dc3",
   "metadata": {},
   "source": [
    "A unbiased estimator for the mode is given by:"
   ]
  },
  {
   "cell_type": "code",
   "execution_count": 3,
   "id": "d233aab3",
   "metadata": {},
   "outputs": [
    {
     "data": {
      "text/plain": [
       "256.57"
      ]
     },
     "execution_count": 3,
     "metadata": {},
     "output_type": "execute_result"
    }
   ],
   "source": [
    "(870.2+502.9+540.3+62.5+589.8)/10"
   ]
  },
  {
   "cell_type": "markdown",
   "id": "fbc06add",
   "metadata": {},
   "source": [
    "We have that $$Var(\\bar X)=\\frac{Var(T)}{n^2}=\\frac{2}{n\\alpha^2} $$ hence the variance of the mode is given by:"
   ]
  },
  {
   "cell_type": "code",
   "execution_count": 5,
   "id": "3d58eae2",
   "metadata": {},
   "outputs": [
    {
     "data": {
      "text/plain": [
       "6582.81649"
      ]
     },
     "execution_count": 5,
     "metadata": {},
     "output_type": "execute_result"
    }
   ],
   "source": [
    "((870.2+502.9+540.3+62.5+589.8)/10)**2/(2*5)"
   ]
  },
  {
   "cell_type": "markdown",
   "id": "1998ead5",
   "metadata": {},
   "source": [
    "7. $\\hat{θ}_1$ and  $\\hat{θ}_2$ are independent unbiased estimators for an unknown parameter $\\theta$, with respective variances $\\sigma^2_1$ and $\\sigma^2_2$ . Show that $\\hat{θ}_3 = \\lambda \\hat{θ}_1 + (1 − \\lambda) \\hat{θ}_2$ is also an unbiased estimator of $\\theta$ for all values of $\\lambda$. Calculate the variance of $\\hat{θ}_3$ and show that the value of $\\lambda$ that minimizes it is $$\\lambda=\\frac{\\sigma_2^2}{\\sigma_1^2+\\sigma_2^2}.$$"
   ]
  },
  {
   "cell_type": "markdown",
   "id": "71e8e6b9",
   "metadata": {},
   "source": [
    "We have that $E(\\hat{\\theta}_3)=\\theta$ and $Var(\\hat{\\theta}_3)=\\lambda^2\\sigma^2_1+(1-\\lambda)^2\\sigma^2_2$. The statement about the minimum follows by an standard calculus proceedure."
   ]
  },
  {
   "cell_type": "markdown",
   "id": "bc9d8ba1",
   "metadata": {},
   "source": [
    "a. Let $\\bar{X}_1$ and $\\bar{X}_2$ be the means of two independent random samples of sizes $n_1$ and $n_2$ from the independent distributions $N(\\mu, \\sigma^2_1)$ and $N(\\mu, \\sigma^2_2)$, respectively,where the values of $\\sigma^2_1$ and $\\sigma^2_2$ are known. Find the value of $\\lambda$ which minimizes the variance of the estimator $\\hat{\\mu} = \\lambda \\bar{X}_1 + (1 − \\lambda) \\bar X_2.$"
   ]
  },
  {
   "cell_type": "markdown",
   "id": "b24faa69",
   "metadata": {},
   "source": [
    "$$\\lambda=\\frac{\\sigma_2^2}{\\sigma_1^2+\\sigma_2^2}.$$"
   ]
  },
  {
   "cell_type": "markdown",
   "id": "e0e8c57b",
   "metadata": {},
   "source": [
    "b. Let $S_1^2$ and $S_2^2$ be the means of two independent random samples of sizes $n_1$ and $n_2$ from the independent distributions $N(\\mu_1, \\sigma^2)$ and $N(\\mu_2, \\sigma^2)$, respectively. Find the value of $\\lambda$ which minimizes the variance of the estimator $\\hat{\\sigma}^2 = \\lambda S_1^2 + (1 − \\lambda) S_2^2.$ You may assume that if $S^2$ is the sample variance of a random sample of size $N$ from the distribution $N(\\mu, \\sigma^2)$ then $Var(S^2) = \\frac{2\\sigma^4}{n-1}$."
   ]
  },
  {
   "cell_type": "markdown",
   "id": "0a43583f",
   "metadata": {},
   "source": [
    "$$\\lambda=\\frac{(n_1-1)\\sigma_2^4}{(n_2-1)\\sigma_1^4+(n_1-1)\\sigma_2^4}.$$"
   ]
  },
  {
   "cell_type": "markdown",
   "id": "90b966f6",
   "metadata": {},
   "source": [
    "8. Let $X$ be a random variable with Uniform distribution on $[0, \\theta]$, with probability density function $1/\\theta$ for $0 \\leq x \\leq \\theta$. Let $X_1, X_2, ..., X_n$ be a random sample from $X$. Show that $Z = max(X_1, X_2, ..., X_n)$ is a biased estimator for $\\theta$, and suggest a correction to $Z$ such that the new estimator is unbiased."
   ]
  },
  {
   "cell_type": "markdown",
   "id": "ec54c9f5",
   "metadata": {},
   "source": [
    "$E(Z)=\\frac{n}{n+1}\\theta$, and an unbiased estimator is $\\frac{n+1}{n}Z$."
   ]
  },
  {
   "cell_type": "code",
   "execution_count": null,
   "id": "65267f08",
   "metadata": {},
   "outputs": [],
   "source": []
  }
 ],
 "metadata": {
  "kernelspec": {
   "display_name": "Python 3 (ipykernel)",
   "language": "python",
   "name": "python3"
  },
  "language_info": {
   "codemirror_mode": {
    "name": "ipython",
    "version": 3
   },
   "file_extension": ".py",
   "mimetype": "text/x-python",
   "name": "python",
   "nbconvert_exporter": "python",
   "pygments_lexer": "ipython3",
   "version": "3.8.13"
  }
 },
 "nbformat": 4,
 "nbformat_minor": 5
}
