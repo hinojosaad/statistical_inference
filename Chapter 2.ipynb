{
 "cells": [
  {
   "cell_type": "code",
   "execution_count": 1,
   "id": "879de997",
   "metadata": {},
   "outputs": [],
   "source": [
    "import math\n",
    "from scipy import stats"
   ]
  },
  {
   "cell_type": "markdown",
   "id": "70459ee2",
   "metadata": {},
   "source": [
    "1. Let $X$ and $Y$ be two independent Normally distributed random variables. X has a mean of $15$ and a variance of $\\frac{1}{4}$ , while $Y$ has a mean of $9$ and a variance of $\\frac{8}{9}$.Find the probability that $2X − 3Y < 6$, and the probability that $2X − 3Y \\geq 6$."
   ]
  },
  {
   "cell_type": "code",
   "execution_count": 2,
   "id": "7fc8fa2c",
   "metadata": {},
   "outputs": [],
   "source": [
    "m = 2*15 -3*9\n",
    "s = math.sqrt(4*1/4 + 9*8/9)"
   ]
  },
  {
   "cell_type": "code",
   "execution_count": 3,
   "id": "8153e1ea",
   "metadata": {},
   "outputs": [
    {
     "data": {
      "text/plain": [
       "0.8413447460685429"
      ]
     },
     "execution_count": 3,
     "metadata": {},
     "output_type": "execute_result"
    }
   ],
   "source": [
    "stats.norm.cdf(6,loc=m,scale=s)"
   ]
  },
  {
   "cell_type": "code",
   "execution_count": 4,
   "id": "e3f5160e",
   "metadata": {},
   "outputs": [
    {
     "data": {
      "text/plain": [
       "0.15865525393145707"
      ]
     },
     "execution_count": 4,
     "metadata": {},
     "output_type": "execute_result"
    }
   ],
   "source": [
    "1-stats.norm.cdf(6,loc=m,scale=s)"
   ]
  },
  {
   "cell_type": "markdown",
   "id": "f892dc35",
   "metadata": {},
   "source": [
    "2. Wood screws are manufactured in their millions but packed in boxes of $200$ to besold to the public. If the length of the screws is known to be Normally distributed with a mean of $2$ cm and variance of $0.05$ cm, calculate the probability that the sample mean length of screws in a box of $200$ is greater than $2.02$ cm."
   ]
  },
  {
   "cell_type": "code",
   "execution_count": 5,
   "id": "95cb45dd",
   "metadata": {},
   "outputs": [],
   "source": [
    "m = 2\n",
    "s = math.sqrt(.05/200)"
   ]
  },
  {
   "cell_type": "code",
   "execution_count": 6,
   "id": "b35b5d12",
   "metadata": {},
   "outputs": [
    {
     "data": {
      "text/plain": [
       "0.10295160536603398"
      ]
     },
     "execution_count": 6,
     "metadata": {},
     "output_type": "execute_result"
    }
   ],
   "source": [
    "1-stats.norm.cdf(2.02,loc=m,scale=s)"
   ]
  },
  {
   "cell_type": "markdown",
   "id": "6ebc05e1",
   "metadata": {},
   "source": [
    "3. A small block of flats contains six families. One family has no children, one family has one child, three families have two children, and one family has three children. A random sample of three families is selected.\n",
    "\n",
    "    a. List all the possible samples of three families according to the number of children.\n",
    "    \n",
    "    b. Calculate the sample mean, sample variance, and sample median for each possible sample.\n",
    "    \n",
    "    c. Find the sampling distributions of the sample mean, variance, and median."
   ]
  },
  {
   "cell_type": "markdown",
   "id": "28760013",
   "metadata": {},
   "source": [
    "4. Two youth clubs have $10$ members, one youth club has 30 members, and two other youth clubs have $40$ members. A random sample of two of these youth clubs is taken with replacement. Find the sampling distributions of the sample mean and sample minimum of the number of members. Find the mean of each of these sampling distributions."
   ]
  },
  {
   "cell_type": "markdown",
   "id": "e0deed87",
   "metadata": {},
   "source": [
    "5. Before the invention of dice as we know them, the heel bones of sheep were used as gambling tools. They were called astragali and, when tossed, could land on any of four sides. Each side was equally likely and represented scores of $1$, $3$, $5$, and $7$."
   ]
  },
  {
   "cell_type": "markdown",
   "id": "28552ec7",
   "metadata": {},
   "source": [
    "   a. List all the possible outcomes when two astragali are thrown, and obtain the sampling distribution of the mean score, $\\bar{X}$."
   ]
  },
  {
   "cell_type": "code",
   "execution_count": 7,
   "id": "2bbab34d",
   "metadata": {},
   "outputs": [],
   "source": [
    "sample = {(1,1),(1,3),(1,5),(1,7),\n",
    "          (3,1),(3,3),(3,5),(3,7),\n",
    "          (5,1),(5,3),(5,5),(5,7),\n",
    "          (7,1),(7,3),(7,5),(7,7)\n",
    "         }"
   ]
  },
  {
   "cell_type": "markdown",
   "id": "81b4a4fc",
   "metadata": {},
   "source": [
    "The sampling distribution  of $\\bar{X}$ is given by:"
   ]
  },
  {
   "cell_type": "markdown",
   "id": "343499b0",
   "metadata": {},
   "source": [
    "| Value  | Probability |\n",
    "|:------:|:-----------:|\n",
    "|    1   |     1/16    |\n",
    "|    2   |     2/16    |\n",
    "|    3   |     3/16    |\n",
    "|    4   |     4/16    |\n",
    "|    5   |     3/16    |\n",
    "|    6   |     2/16    |\n",
    "|    7   |     1/16    |"
   ]
  },
  {
   "cell_type": "markdown",
   "id": "35e18559",
   "metadata": {},
   "source": [
    "b. Find the sampling distribution of the sample variance of the scores, $S^2$."
   ]
  },
  {
   "cell_type": "code",
   "execution_count": 8,
   "id": "cd038af3",
   "metadata": {},
   "outputs": [
    {
     "name": "stdout",
     "output_type": "stream",
     "text": [
      "0.0\n",
      "18.0\n",
      "0.0\n",
      "8.0\n",
      "2.0\n",
      "8.0\n",
      "0.0\n",
      "8.0\n",
      "2.0\n",
      "8.0\n",
      "18.0\n",
      "0.0\n",
      "2.0\n",
      "2.0\n",
      "2.0\n",
      "2.0\n"
     ]
    }
   ],
   "source": [
    "for t in sample:\n",
    "    print ( t[0]**2+t[1]**2-(t[0]+t[1])**2/2)"
   ]
  },
  {
   "cell_type": "markdown",
   "id": "6da89553",
   "metadata": {},
   "source": [
    "The sampling distribution  of $S^2$ is given by:"
   ]
  },
  {
   "cell_type": "markdown",
   "id": "64b08fee",
   "metadata": {},
   "source": [
    "| Value  | Probability |\n",
    "|:------:|:-----------:|\n",
    "|    0   |     4/16    |\n",
    "|    2   |     6/16    |\n",
    "|    8   |     4/16    |\n",
    "|    18  |     2/16    |"
   ]
  },
  {
   "cell_type": "markdown",
   "id": "d5e72b5f",
   "metadata": {},
   "source": [
    "c. Find $E[\\bar{X}]$ , $E[S^2]$ and $Var [\\bar{X}]$. Explain how these relate to $\\mu$ and $\\sigma^2$, the mean and variance of the scores $1$, $3$, $5$, and $7$."
   ]
  },
  {
   "cell_type": "code",
   "execution_count": 9,
   "id": "222e3033",
   "metadata": {},
   "outputs": [
    {
     "data": {
      "text/plain": [
       "4.0"
      ]
     },
     "execution_count": 9,
     "metadata": {},
     "output_type": "execute_result"
    }
   ],
   "source": [
    "m_x = 1/16*(1*1+2*2+3*3+4*4+5*3+6*2+7*1)\n",
    "m_x"
   ]
  },
  {
   "cell_type": "code",
   "execution_count": 10,
   "id": "d726859a",
   "metadata": {},
   "outputs": [
    {
     "data": {
      "text/plain": [
       "5.0"
      ]
     },
     "execution_count": 10,
     "metadata": {},
     "output_type": "execute_result"
    }
   ],
   "source": [
    "m_s2 = 1/16*(0*4+2*6+8*4+18*2)\n",
    "m_s2"
   ]
  },
  {
   "cell_type": "code",
   "execution_count": 11,
   "id": "ae49b898",
   "metadata": {},
   "outputs": [
    {
     "data": {
      "text/plain": [
       "2.5"
      ]
     },
     "execution_count": 11,
     "metadata": {},
     "output_type": "execute_result"
    }
   ],
   "source": [
    "s2_x = 1/16*(1*(1-m_x)**2+2*(2-m_x)**2+3*(3-m_x)**2+4*(4-m_x)**2+3*(5-m_x)**2+2*(6-m_x)**2+1*(7-m_x)**2)\n",
    "s2_x"
   ]
  },
  {
   "cell_type": "markdown",
   "id": "e3c15bc7",
   "metadata": {},
   "source": [
    "$\\mu = 4$ and $\\sigma^2 = 5/2 = 2.5$."
   ]
  },
  {
   "cell_type": "markdown",
   "id": "9f90c019",
   "metadata": {},
   "source": [
    "d. Show that $E[S^2] \\neq (E[S])^2$."
   ]
  },
  {
   "cell_type": "code",
   "execution_count": 12,
   "id": "82c75f13",
   "metadata": {},
   "outputs": [
    {
     "data": {
      "text/plain": [
       "3.1250000000000004"
      ]
     },
     "execution_count": 12,
     "metadata": {},
     "output_type": "execute_result"
    }
   ],
   "source": [
    "m_s = 1/16*(0*2+math.sqrt(2)*6+math.sqrt(8)*4+math.sqrt(18)*2)\n",
    "m_s**2"
   ]
  },
  {
   "cell_type": "markdown",
   "id": "046d6570",
   "metadata": {},
   "source": [
    "6. A piece of electrical equipment consists of five bulbs placed in series. It can function only if all the bulbs are working. The lifetime T of each bulb (in units of $1000$ hours) has the probability density function $$f (t) = \\frac{2}{(1 + t)^3} , 0 \\leq t < \\infty.$$ Calculate the mean lifetime of the piece of equipment."
   ]
  },
  {
   "cell_type": "markdown",
   "id": "4886582e",
   "metadata": {},
   "source": [
    "$$ E(T) =\\int_0^\\infty\\frac{2t}{(1 + t)^3}dt = 1. $$ The mean life time is $1000$ hours."
   ]
  },
  {
   "cell_type": "markdown",
   "id": "d113bf4e",
   "metadata": {},
   "source": [
    "7. The time in minutes needed to collect the tolls from motorists crossing a toll bridge has the probability density function $$f(x) = 2 \\exp(−2x), 0 ≤ x < \\infty.$$ A motorist approaches the bridge and counts $50$ vehicles waiting in a queue to pay the toll. Only one tollbooth is in operation. Use the Central Limit Theorem to find the approximate probability that a motorist will have to wait more than $25$ min before reaching the front of the queue. State any assumptions that you make."
   ]
  },
  {
   "cell_type": "code",
   "execution_count": 13,
   "id": "a838b9de",
   "metadata": {},
   "outputs": [],
   "source": [
    "m = 1/2\n",
    "s = 1/2"
   ]
  },
  {
   "cell_type": "code",
   "execution_count": 14,
   "id": "775b0b42",
   "metadata": {},
   "outputs": [
    {
     "data": {
      "text/plain": [
       "0.5"
      ]
     },
     "execution_count": 14,
     "metadata": {},
     "output_type": "execute_result"
    }
   ],
   "source": [
    "1-stats.norm.cdf(25/50,loc=m,scale=s/math.sqrt(50))"
   ]
  }
 ],
 "metadata": {
  "kernelspec": {
   "display_name": "Python 3 (ipykernel)",
   "language": "python",
   "name": "python3"
  },
  "language_info": {
   "codemirror_mode": {
    "name": "ipython",
    "version": 3
   },
   "file_extension": ".py",
   "mimetype": "text/x-python",
   "name": "python",
   "nbconvert_exporter": "python",
   "pygments_lexer": "ipython3",
   "version": "3.8.13"
  }
 },
 "nbformat": 4,
 "nbformat_minor": 5
}
