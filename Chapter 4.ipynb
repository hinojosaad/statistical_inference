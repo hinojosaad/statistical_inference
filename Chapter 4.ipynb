{
 "cells": [
  {
   "cell_type": "code",
   "execution_count": 1,
   "id": "0ab0d664",
   "metadata": {},
   "outputs": [],
   "source": [
    "import math\n",
    "from scipy import stats\n",
    "from statistics import mean, stdev"
   ]
  },
  {
   "cell_type": "markdown",
   "id": "2552022b",
   "metadata": {},
   "source": [
    "1. A random sample of 25 observations from a Normal distribution having known variance 25 has a sample mean of 80.A random sample of 25 observations from another (independent) Normal distribution with known variance 25 had a samplemean of 76. Calculate"
   ]
  },
  {
   "cell_type": "markdown",
   "id": "117f3882",
   "metadata": {},
   "source": [
    "a. 95% confidence intervals for each of the population means."
   ]
  },
  {
   "cell_type": "code",
   "execution_count": 2,
   "id": "67c1676c",
   "metadata": {},
   "outputs": [
    {
     "name": "stdout",
     "output_type": "stream",
     "text": [
      "(78.04003601545995, 81.95996398454005)\n"
     ]
    }
   ],
   "source": [
    "n1 =25\n",
    "sigma1=5\n",
    "x1 = 80\n",
    "z975 = stats.norm.ppf(.975)\n",
    "c1 = (x1-z975*sigma1/math.sqrt(n1),x1+z975*sigma1/math.sqrt(n1))\n",
    "print(c1)"
   ]
  },
  {
   "cell_type": "code",
   "execution_count": 3,
   "id": "6d819057",
   "metadata": {},
   "outputs": [
    {
     "name": "stdout",
     "output_type": "stream",
     "text": [
      "(74.04003601545995, 77.95996398454005)\n"
     ]
    }
   ],
   "source": [
    "n2 =25\n",
    "sigma2=5\n",
    "x2 = 76\n",
    "z975 = stats.norm.ppf(.975)\n",
    "c2 = (x2-z975*sigma2/math.sqrt(n2),x2+z975*sigma2/math.sqrt(n2))\n",
    "print(c2)"
   ]
  },
  {
   "cell_type": "markdown",
   "id": "391ecf7d",
   "metadata": {},
   "source": [
    "b. A 95% confidence interval for the difference between the population means."
   ]
  },
  {
   "cell_type": "code",
   "execution_count": 4,
   "id": "3ee5372d",
   "metadata": {},
   "outputs": [
    {
     "name": "stdout",
     "output_type": "stream",
     "text": [
      "(1.228192351300644, 6.771807648699356)\n"
     ]
    }
   ],
   "source": [
    "c3 = (x1-x2-z975*math.sqrt((sigma1**2/n1)+(sigma2**2/n2)),x1-x2+z975*math.sqrt((sigma1**2/n1)+(sigma2**2/n2)))\n",
    "print(c3)"
   ]
  },
  {
   "cell_type": "markdown",
   "id": "e66998c5",
   "metadata": {},
   "source": [
    "2. Six biscuits in a factory are chosen at random, and the amount of fat in them is measured. The results (in grams) were as follows: 0.9, 1.0, 1.0, 1.0, 1.2, 1.2. Clearly stating your assumptions, compute 95% confidence intervals for\n",
    "    \n",
    "    a. the population mean,\n",
    "    \n",
    "    b. the population variance."
   ]
  },
  {
   "cell_type": "code",
   "execution_count": 5,
   "id": "488de83b",
   "metadata": {},
   "outputs": [],
   "source": [
    "x3 = [0.9, 1.0, 1.0, 1.0, 1.2, 1.2]\n",
    "n3 = len(x3)\n",
    "m3 = mean(x3)\n",
    "s3 = stdev(x3)"
   ]
  },
  {
   "cell_type": "code",
   "execution_count": 6,
   "id": "0cc221ec",
   "metadata": {},
   "outputs": [
    {
     "name": "stdout",
     "output_type": "stream",
     "text": [
      "(0.9214709081692631, 1.178529091830737)\n"
     ]
    }
   ],
   "source": [
    "t975 = stats.t.ppf(.975, df = n3-1)\n",
    "c3 = (m3-t975*s3/math.sqrt(n3), m3+t975*s3/math.sqrt(n3))\n",
    "print(c3)"
   ]
  },
  {
   "cell_type": "code",
   "execution_count": 7,
   "id": "af893b03",
   "metadata": {},
   "outputs": [
    {
     "name": "stdout",
     "output_type": "stream",
     "text": [
      "(0.005844534451262247, 0.09022973065234179)\n"
     ]
    }
   ],
   "source": [
    "chi025 = stats.chi2.ppf(.025, df = n3-1)\n",
    "chi975 = stats.chi2.ppf(.975, df = n3-1)\n",
    "c4 = ((n3-1)*s3**2/chi975, (n3-1)*s3**2/chi025)\n",
    "print(c4)"
   ]
  },
  {
   "cell_type": "markdown",
   "id": "44d31e98",
   "metadata": {},
   "source": [
    "3. A random sample from a Normal distribution with unknown mean μ and variance 16 was used to obtain the 99% confidence interval (27.7533, 30.1327) for μ. Deduce the value of (a) the sample mean and (b) the sample size."
   ]
  },
  {
   "cell_type": "code",
   "execution_count": 8,
   "id": "b3beee6c",
   "metadata": {},
   "outputs": [
    {
     "data": {
      "text/plain": [
       "28.942999999999998"
      ]
     },
     "execution_count": 8,
     "metadata": {},
     "output_type": "execute_result"
    }
   ],
   "source": [
    "a = 27.7533\n",
    "b = 30.1327\n",
    "(a +b)/2"
   ]
  },
  {
   "cell_type": "code",
   "execution_count": 9,
   "id": "7a74bf94",
   "metadata": {},
   "outputs": [
    {
     "data": {
      "text/plain": [
       "75.00310082624831"
      ]
     },
     "execution_count": 9,
     "metadata": {},
     "output_type": "execute_result"
    }
   ],
   "source": [
    "z995 = stats.norm.ppf(.995)\n",
    "(8*z995/(b-a))**2"
   ]
  },
  {
   "cell_type": "markdown",
   "id": "a7b9fb39",
   "metadata": {},
   "source": [
    "5. In five attempts, a girl completed a Rubix cube in 135.4, 152.1, 146.7, 143.5, 146.0 seconds. In different five attempts, a boy completed the cube in 133.1, 126.9, 129.0, 139.6, 144.0 seconds. Find a 90% confidence interval for the difference in mean time taken to complete the cube assuming that the both samples are from independent Normal populations with equal variances. Also, find a 95% confidence interval for the ratio of population variances."
   ]
  },
  {
   "cell_type": "code",
   "execution_count": 13,
   "id": "54148cc0",
   "metadata": {},
   "outputs": [],
   "source": [
    "x4 = [ 135.4, 152.1, 146.7, 143.5, 146.0]\n",
    "n4 = len(x4)\n",
    "m4 = mean(x4)\n",
    "s4 = stdev(x4)\n",
    "\n",
    "x5 = [ 133.1, 126.9, 129.0, 139.6, 144.0]\n",
    "n5 = len(x5)\n",
    "m5 = mean(x5)\n",
    "s5 = stdev(x5)"
   ]
  },
  {
   "cell_type": "code",
   "execution_count": 19,
   "id": "f01b3547",
   "metadata": {},
   "outputs": [
    {
     "name": "stdout",
     "output_type": "stream",
     "text": [
      "(2.3899998617273273, 18.050000138272672)\n"
     ]
    }
   ],
   "source": [
    "t950 = stats.t.ppf(.95, df = n4+n5-2)\n",
    "S45= math.sqrt(((n4-1)*(s4**2)+(n5-1)*(s5**2))/(n4+n5-2))\n",
    "c5=(m4-m5-t950*S45*math.sqrt((1/n4)+(1/n5)),m4-m5+t950*S45*math.sqrt((1/n4)+(1/n5)) )\n",
    "print(c5)"
   ]
  },
  {
   "cell_type": "code",
   "execution_count": 17,
   "id": "db68fba9",
   "metadata": {},
   "outputs": [
    {
     "name": "stdout",
     "output_type": "stream",
     "text": [
      "(0.07490800117886097, 6.9100379582602685)\n"
     ]
    }
   ],
   "source": [
    "f025 = stats.f.ppf(.025, dfn = n4-1,dfd = n5-1)\n",
    "f975 = stats.f.ppf(.975, dfn = n4-1,dfd = n5-1)\n",
    "c6=((s4**2/s5**2)*(1/f975),(s4**2/s5**2)*(1/f025))\n",
    "print(c6)"
   ]
  },
  {
   "cell_type": "code",
   "execution_count": null,
   "id": "499cbdd0",
   "metadata": {},
   "outputs": [],
   "source": []
  }
 ],
 "metadata": {
  "kernelspec": {
   "display_name": "Python 3 (ipykernel)",
   "language": "python",
   "name": "python3"
  },
  "language_info": {
   "codemirror_mode": {
    "name": "ipython",
    "version": 3
   },
   "file_extension": ".py",
   "mimetype": "text/x-python",
   "name": "python",
   "nbconvert_exporter": "python",
   "pygments_lexer": "ipython3",
   "version": "3.8.13"
  }
 },
 "nbformat": 4,
 "nbformat_minor": 5
}
