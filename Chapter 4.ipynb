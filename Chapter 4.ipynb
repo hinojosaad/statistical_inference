{
 "cells": [
  {
   "cell_type": "code",
   "execution_count": 1,
   "id": "0ab0d664",
   "metadata": {},
   "outputs": [],
   "source": [
    "import math\n",
    "from scipy import stats"
   ]
  },
  {
   "cell_type": "markdown",
   "id": "2552022b",
   "metadata": {},
   "source": [
    "1. A random sample of 25 observations from a Normal distribution having known variance 25 has a sample mean of 80.A random sample of 25 observations from another (independent) Normal distribution with known variance 25 had a samplemean of 76. Calculate"
   ]
  },
  {
   "cell_type": "markdown",
   "id": "117f3882",
   "metadata": {},
   "source": [
    "a. 95% confidence intervals for each of the population means."
   ]
  },
  {
   "cell_type": "code",
   "execution_count": 2,
   "id": "67c1676c",
   "metadata": {},
   "outputs": [
    {
     "name": "stdout",
     "output_type": "stream",
     "text": [
      "(78.04003601545995, 81.95996398454005)\n"
     ]
    }
   ],
   "source": [
    "n_1 =25\n",
    "sigma_1=5\n",
    "x_1 = 80\n",
    "z_975 = stats.norm.ppf(.975)\n",
    "c1 = (x_1-z_975*sigma_1/math.sqrt(n_1),x_1+z_975*sigma_1/math.sqrt(n_1))\n",
    "print(c1)"
   ]
  },
  {
   "cell_type": "code",
   "execution_count": 3,
   "id": "6d819057",
   "metadata": {},
   "outputs": [
    {
     "name": "stdout",
     "output_type": "stream",
     "text": [
      "(74.04003601545995, 77.95996398454005)\n"
     ]
    }
   ],
   "source": [
    "n_2 =25\n",
    "sigma_2=5\n",
    "x_2 = 76\n",
    "z_975 = stats.norm.ppf(.975)\n",
    "c2 = (x_2-z_975*sigma_2/math.sqrt(n_2),x_2+z_975*sigma_2/math.sqrt(n_2))\n",
    "print(c2)"
   ]
  },
  {
   "cell_type": "markdown",
   "id": "391ecf7d",
   "metadata": {},
   "source": [
    "b. A 95% confidence interval for the difference between the population means."
   ]
  },
  {
   "cell_type": "code",
   "execution_count": 4,
   "id": "3ee5372d",
   "metadata": {},
   "outputs": [
    {
     "name": "stdout",
     "output_type": "stream",
     "text": [
      "(1.228192351300644, 6.771807648699356)\n"
     ]
    }
   ],
   "source": [
    "c3 = (x_1-x_2-z_975*math.sqrt((sigma_1**2/n_1)+(sigma_2**2/n_2)),x_1-x_2+z_975*math.sqrt((sigma_1**2/n_1)+(sigma_2**2/n_2)))\n",
    "print(c3)"
   ]
  }
 ],
 "metadata": {
  "kernelspec": {
   "display_name": "Python 3 (ipykernel)",
   "language": "python",
   "name": "python3"
  },
  "language_info": {
   "codemirror_mode": {
    "name": "ipython",
    "version": 3
   },
   "file_extension": ".py",
   "mimetype": "text/x-python",
   "name": "python",
   "nbconvert_exporter": "python",
   "pygments_lexer": "ipython3",
   "version": "3.8.13"
  }
 },
 "nbformat": 4,
 "nbformat_minor": 5
}
