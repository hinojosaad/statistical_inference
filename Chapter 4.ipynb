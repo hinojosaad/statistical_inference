{
 "cells": [
  {
   "cell_type": "code",
   "execution_count": 1,
   "id": "0ab0d664",
   "metadata": {},
   "outputs": [],
   "source": [
    "import math\n",
    "from scipy import stats\n",
    "from statistics import mean, stdev"
   ]
  },
  {
   "cell_type": "markdown",
   "id": "2552022b",
   "metadata": {},
   "source": [
    "1. A random sample of 25 observations from a Normal distribution having known variance 25 has a sample mean of 80.A random sample of 25 observations from another (independent) Normal distribution with known variance 25 had a samplemean of 76. Calculate"
   ]
  },
  {
   "cell_type": "markdown",
   "id": "117f3882",
   "metadata": {},
   "source": [
    "a. 95% confidence intervals for each of the population means."
   ]
  },
  {
   "cell_type": "code",
   "execution_count": 2,
   "id": "67c1676c",
   "metadata": {},
   "outputs": [
    {
     "name": "stdout",
     "output_type": "stream",
     "text": [
      "(78.04003601545995, 81.95996398454005)\n"
     ]
    }
   ],
   "source": [
    "n1 =25\n",
    "sigma1=5\n",
    "x1 = 80\n",
    "z975 = stats.norm.ppf(.975)\n",
    "c1 = (x1-z975*sigma1/math.sqrt(n1),x1+z975*sigma1/math.sqrt(n1))\n",
    "print(c1)"
   ]
  },
  {
   "cell_type": "code",
   "execution_count": 4,
   "id": "6d819057",
   "metadata": {},
   "outputs": [
    {
     "name": "stdout",
     "output_type": "stream",
     "text": [
      "(74.04003601545995, 77.95996398454005)\n"
     ]
    }
   ],
   "source": [
    "n2 =25\n",
    "sigma2=5\n",
    "x2 = 76\n",
    "z975 = stats.norm.ppf(.975)\n",
    "c2 = (x2-z975*sigma2/math.sqrt(n2),x2+z975*sigma2/math.sqrt(n2))\n",
    "print(c2)"
   ]
  },
  {
   "cell_type": "markdown",
   "id": "391ecf7d",
   "metadata": {},
   "source": [
    "b. A 95% confidence interval for the difference between the population means."
   ]
  },
  {
   "cell_type": "code",
   "execution_count": null,
   "id": "3ee5372d",
   "metadata": {},
   "outputs": [],
   "source": [
    "c3 = (x1-x2-z975*math.sqrt((sigma1**2/n1)+(sigma2**2/n2)),x1-x2+z975*math.sqrt((sigma1**2/n_1)+(sigma2**2/n2)))\n",
    "print(c3)"
   ]
  },
  {
   "cell_type": "markdown",
   "id": "d0f43905",
   "metadata": {},
   "source": [
    "2. Six biscuits in a factory are chosen at random, and the amount of fat in them is measured. The results (in grams) were as follows: 0.9, 1.0, 1.0, 1.0, 1.2, 1.2. Clearly stating your assumptions, compute 95% confidence intervals for\n",
    "    \n",
    "    a. the population mean,\n",
    "    \n",
    "    b. the population variance."
   ]
  },
  {
   "cell_type": "code",
   "execution_count": 5,
   "id": "87b2350b",
   "metadata": {},
   "outputs": [],
   "source": [
    "x3 = [0.9, 1.0, 1.0, 1.0, 1.2, 1.2]\n",
    "n3 = len(x3)\n",
    "m3 = mean(x3)\n",
    "s3 = stdev(x3)"
   ]
  },
  {
   "cell_type": "code",
   "execution_count": 9,
   "id": "b5565ad7",
   "metadata": {},
   "outputs": [
    {
     "name": "stdout",
     "output_type": "stream",
     "text": [
      "(0.9214709081692631, 1.178529091830737)\n"
     ]
    }
   ],
   "source": [
    "t975 = stats.t.ppf(.975, df = n3-1)\n",
    "c3 = (m3-t975*s3/math.sqrt(n3), m3+t975*s3/math.sqrt(n3))\n",
    "print(c3)"
   ]
  },
  {
   "cell_type": "code",
   "execution_count": 11,
   "id": "3540ca3c",
   "metadata": {},
   "outputs": [
    {
     "name": "stdout",
     "output_type": "stream",
     "text": [
      "(0.005844534451262247, 0.09022973065234179)\n"
     ]
    }
   ],
   "source": [
    "chi025 = stats.chi2.ppf(.025, df = n3-1)\n",
    "chi975 = stats.chi2.ppf(.975, df = n3-1)\n",
    "c4 = ((n3-1)*s3**2/chi975, (n3-1)*s3**2/chi025)\n",
    "print(c4)"
   ]
  },
  {
   "cell_type": "code",
   "execution_count": null,
   "id": "a7cc7612",
   "metadata": {},
   "outputs": [],
   "source": []
  }
 ],
 "metadata": {
  "kernelspec": {
   "display_name": "Python 3 (ipykernel)",
   "language": "python",
   "name": "python3"
  },
  "language_info": {
   "codemirror_mode": {
    "name": "ipython",
    "version": 3
   },
   "file_extension": ".py",
   "mimetype": "text/x-python",
   "name": "python",
   "nbconvert_exporter": "python",
   "pygments_lexer": "ipython3",
   "version": "3.8.13"
  }
 },
 "nbformat": 4,
 "nbformat_minor": 5
}
